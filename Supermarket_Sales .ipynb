{
 "cells": [
  {
   "cell_type": "code",
   "execution_count": 84,
   "id": "84f9a791-d4d9-408f-9d21-9740c6d6ae78",
   "metadata": {},
   "outputs": [],
   "source": [
    "import numpy as np\n",
    "import pandas as pd\n",
    "import matplotlib.pyplot as plt\n",
    "import seaborn as sns\n",
    "import plotly.express as px\n",
    "plt.rcParams['font.family'] = 'sans-serif'\n",
    "plt.rcParams['font.sans-serif'] = ['Arial']"
   ]
  },
  {
   "cell_type": "code",
   "execution_count": 85,
   "id": "801b1cf9-8589-4594-843a-f709aae213ca",
   "metadata": {},
   "outputs": [
    {
     "data": {
      "text/html": [
       "<div>\n",
       "<style scoped>\n",
       "    .dataframe tbody tr th:only-of-type {\n",
       "        vertical-align: middle;\n",
       "    }\n",
       "\n",
       "    .dataframe tbody tr th {\n",
       "        vertical-align: top;\n",
       "    }\n",
       "\n",
       "    .dataframe thead th {\n",
       "        text-align: right;\n",
       "    }\n",
       "</style>\n",
       "<table border=\"1\" class=\"dataframe\">\n",
       "  <thead>\n",
       "    <tr style=\"text-align: right;\">\n",
       "      <th></th>\n",
       "      <th>Invoice ID</th>\n",
       "      <th>Branch</th>\n",
       "      <th>City</th>\n",
       "      <th>Customer type</th>\n",
       "      <th>Gender</th>\n",
       "      <th>Product line</th>\n",
       "      <th>Unit price</th>\n",
       "      <th>Quantity</th>\n",
       "      <th>Tax 5%</th>\n",
       "      <th>Total</th>\n",
       "      <th>Date</th>\n",
       "      <th>Time</th>\n",
       "      <th>Payment</th>\n",
       "      <th>cogs</th>\n",
       "      <th>gross margin percentage</th>\n",
       "      <th>gross income</th>\n",
       "      <th>Rating</th>\n",
       "    </tr>\n",
       "  </thead>\n",
       "  <tbody>\n",
       "    <tr>\n",
       "      <th>0</th>\n",
       "      <td>750-67-8428</td>\n",
       "      <td>A</td>\n",
       "      <td>Yangon</td>\n",
       "      <td>Member</td>\n",
       "      <td>Female</td>\n",
       "      <td>Health and beauty</td>\n",
       "      <td>74.69</td>\n",
       "      <td>7</td>\n",
       "      <td>26.1415</td>\n",
       "      <td>548.9715</td>\n",
       "      <td>1/5/2019</td>\n",
       "      <td>13:08</td>\n",
       "      <td>Ewallet</td>\n",
       "      <td>522.83</td>\n",
       "      <td>4.761905</td>\n",
       "      <td>26.1415</td>\n",
       "      <td>9.1</td>\n",
       "    </tr>\n",
       "    <tr>\n",
       "      <th>1</th>\n",
       "      <td>226-31-3081</td>\n",
       "      <td>C</td>\n",
       "      <td>Naypyitaw</td>\n",
       "      <td>Normal</td>\n",
       "      <td>Female</td>\n",
       "      <td>Electronic accessories</td>\n",
       "      <td>15.28</td>\n",
       "      <td>5</td>\n",
       "      <td>3.8200</td>\n",
       "      <td>80.2200</td>\n",
       "      <td>3/8/2019</td>\n",
       "      <td>10:29</td>\n",
       "      <td>Cash</td>\n",
       "      <td>76.40</td>\n",
       "      <td>4.761905</td>\n",
       "      <td>3.8200</td>\n",
       "      <td>9.6</td>\n",
       "    </tr>\n",
       "    <tr>\n",
       "      <th>2</th>\n",
       "      <td>631-41-3108</td>\n",
       "      <td>A</td>\n",
       "      <td>Yangon</td>\n",
       "      <td>Normal</td>\n",
       "      <td>Male</td>\n",
       "      <td>Home and lifestyle</td>\n",
       "      <td>46.33</td>\n",
       "      <td>7</td>\n",
       "      <td>16.2155</td>\n",
       "      <td>340.5255</td>\n",
       "      <td>3/3/2019</td>\n",
       "      <td>13:23</td>\n",
       "      <td>Credit card</td>\n",
       "      <td>324.31</td>\n",
       "      <td>4.761905</td>\n",
       "      <td>16.2155</td>\n",
       "      <td>7.4</td>\n",
       "    </tr>\n",
       "    <tr>\n",
       "      <th>3</th>\n",
       "      <td>123-19-1176</td>\n",
       "      <td>A</td>\n",
       "      <td>Yangon</td>\n",
       "      <td>Member</td>\n",
       "      <td>Male</td>\n",
       "      <td>Health and beauty</td>\n",
       "      <td>58.22</td>\n",
       "      <td>8</td>\n",
       "      <td>23.2880</td>\n",
       "      <td>489.0480</td>\n",
       "      <td>1/27/2019</td>\n",
       "      <td>20:33</td>\n",
       "      <td>Ewallet</td>\n",
       "      <td>465.76</td>\n",
       "      <td>4.761905</td>\n",
       "      <td>23.2880</td>\n",
       "      <td>8.4</td>\n",
       "    </tr>\n",
       "    <tr>\n",
       "      <th>4</th>\n",
       "      <td>373-73-7910</td>\n",
       "      <td>A</td>\n",
       "      <td>Yangon</td>\n",
       "      <td>Normal</td>\n",
       "      <td>Male</td>\n",
       "      <td>Sports and travel</td>\n",
       "      <td>86.31</td>\n",
       "      <td>7</td>\n",
       "      <td>30.2085</td>\n",
       "      <td>634.3785</td>\n",
       "      <td>2/8/2019</td>\n",
       "      <td>10:37</td>\n",
       "      <td>Ewallet</td>\n",
       "      <td>604.17</td>\n",
       "      <td>4.761905</td>\n",
       "      <td>30.2085</td>\n",
       "      <td>5.3</td>\n",
       "    </tr>\n",
       "    <tr>\n",
       "      <th>...</th>\n",
       "      <td>...</td>\n",
       "      <td>...</td>\n",
       "      <td>...</td>\n",
       "      <td>...</td>\n",
       "      <td>...</td>\n",
       "      <td>...</td>\n",
       "      <td>...</td>\n",
       "      <td>...</td>\n",
       "      <td>...</td>\n",
       "      <td>...</td>\n",
       "      <td>...</td>\n",
       "      <td>...</td>\n",
       "      <td>...</td>\n",
       "      <td>...</td>\n",
       "      <td>...</td>\n",
       "      <td>...</td>\n",
       "      <td>...</td>\n",
       "    </tr>\n",
       "    <tr>\n",
       "      <th>995</th>\n",
       "      <td>233-67-5758</td>\n",
       "      <td>C</td>\n",
       "      <td>Naypyitaw</td>\n",
       "      <td>Normal</td>\n",
       "      <td>Male</td>\n",
       "      <td>Health and beauty</td>\n",
       "      <td>40.35</td>\n",
       "      <td>1</td>\n",
       "      <td>2.0175</td>\n",
       "      <td>42.3675</td>\n",
       "      <td>1/29/2019</td>\n",
       "      <td>13:46</td>\n",
       "      <td>Ewallet</td>\n",
       "      <td>40.35</td>\n",
       "      <td>4.761905</td>\n",
       "      <td>2.0175</td>\n",
       "      <td>6.2</td>\n",
       "    </tr>\n",
       "    <tr>\n",
       "      <th>996</th>\n",
       "      <td>303-96-2227</td>\n",
       "      <td>B</td>\n",
       "      <td>Mandalay</td>\n",
       "      <td>Normal</td>\n",
       "      <td>Female</td>\n",
       "      <td>Home and lifestyle</td>\n",
       "      <td>97.38</td>\n",
       "      <td>10</td>\n",
       "      <td>48.6900</td>\n",
       "      <td>1022.4900</td>\n",
       "      <td>3/2/2019</td>\n",
       "      <td>17:16</td>\n",
       "      <td>Ewallet</td>\n",
       "      <td>973.80</td>\n",
       "      <td>4.761905</td>\n",
       "      <td>48.6900</td>\n",
       "      <td>4.4</td>\n",
       "    </tr>\n",
       "    <tr>\n",
       "      <th>997</th>\n",
       "      <td>727-02-1313</td>\n",
       "      <td>A</td>\n",
       "      <td>Yangon</td>\n",
       "      <td>Member</td>\n",
       "      <td>Male</td>\n",
       "      <td>Food and beverages</td>\n",
       "      <td>31.84</td>\n",
       "      <td>1</td>\n",
       "      <td>1.5920</td>\n",
       "      <td>33.4320</td>\n",
       "      <td>2/9/2019</td>\n",
       "      <td>13:22</td>\n",
       "      <td>Cash</td>\n",
       "      <td>31.84</td>\n",
       "      <td>4.761905</td>\n",
       "      <td>1.5920</td>\n",
       "      <td>7.7</td>\n",
       "    </tr>\n",
       "    <tr>\n",
       "      <th>998</th>\n",
       "      <td>347-56-2442</td>\n",
       "      <td>A</td>\n",
       "      <td>Yangon</td>\n",
       "      <td>Normal</td>\n",
       "      <td>Male</td>\n",
       "      <td>Home and lifestyle</td>\n",
       "      <td>65.82</td>\n",
       "      <td>1</td>\n",
       "      <td>3.2910</td>\n",
       "      <td>69.1110</td>\n",
       "      <td>2/22/2019</td>\n",
       "      <td>15:33</td>\n",
       "      <td>Cash</td>\n",
       "      <td>65.82</td>\n",
       "      <td>4.761905</td>\n",
       "      <td>3.2910</td>\n",
       "      <td>4.1</td>\n",
       "    </tr>\n",
       "    <tr>\n",
       "      <th>999</th>\n",
       "      <td>849-09-3807</td>\n",
       "      <td>A</td>\n",
       "      <td>Yangon</td>\n",
       "      <td>Member</td>\n",
       "      <td>Female</td>\n",
       "      <td>Fashion accessories</td>\n",
       "      <td>88.34</td>\n",
       "      <td>7</td>\n",
       "      <td>30.9190</td>\n",
       "      <td>649.2990</td>\n",
       "      <td>2/18/2019</td>\n",
       "      <td>13:28</td>\n",
       "      <td>Cash</td>\n",
       "      <td>618.38</td>\n",
       "      <td>4.761905</td>\n",
       "      <td>30.9190</td>\n",
       "      <td>6.6</td>\n",
       "    </tr>\n",
       "  </tbody>\n",
       "</table>\n",
       "<p>1000 rows × 17 columns</p>\n",
       "</div>"
      ],
      "text/plain": [
       "      Invoice ID Branch       City Customer type  Gender  \\\n",
       "0    750-67-8428      A     Yangon        Member  Female   \n",
       "1    226-31-3081      C  Naypyitaw        Normal  Female   \n",
       "2    631-41-3108      A     Yangon        Normal    Male   \n",
       "3    123-19-1176      A     Yangon        Member    Male   \n",
       "4    373-73-7910      A     Yangon        Normal    Male   \n",
       "..           ...    ...        ...           ...     ...   \n",
       "995  233-67-5758      C  Naypyitaw        Normal    Male   \n",
       "996  303-96-2227      B   Mandalay        Normal  Female   \n",
       "997  727-02-1313      A     Yangon        Member    Male   \n",
       "998  347-56-2442      A     Yangon        Normal    Male   \n",
       "999  849-09-3807      A     Yangon        Member  Female   \n",
       "\n",
       "               Product line  Unit price  Quantity   Tax 5%      Total  \\\n",
       "0         Health and beauty       74.69         7  26.1415   548.9715   \n",
       "1    Electronic accessories       15.28         5   3.8200    80.2200   \n",
       "2        Home and lifestyle       46.33         7  16.2155   340.5255   \n",
       "3         Health and beauty       58.22         8  23.2880   489.0480   \n",
       "4         Sports and travel       86.31         7  30.2085   634.3785   \n",
       "..                      ...         ...       ...      ...        ...   \n",
       "995       Health and beauty       40.35         1   2.0175    42.3675   \n",
       "996      Home and lifestyle       97.38        10  48.6900  1022.4900   \n",
       "997      Food and beverages       31.84         1   1.5920    33.4320   \n",
       "998      Home and lifestyle       65.82         1   3.2910    69.1110   \n",
       "999     Fashion accessories       88.34         7  30.9190   649.2990   \n",
       "\n",
       "          Date   Time      Payment    cogs  gross margin percentage  \\\n",
       "0     1/5/2019  13:08      Ewallet  522.83                 4.761905   \n",
       "1     3/8/2019  10:29         Cash   76.40                 4.761905   \n",
       "2     3/3/2019  13:23  Credit card  324.31                 4.761905   \n",
       "3    1/27/2019  20:33      Ewallet  465.76                 4.761905   \n",
       "4     2/8/2019  10:37      Ewallet  604.17                 4.761905   \n",
       "..         ...    ...          ...     ...                      ...   \n",
       "995  1/29/2019  13:46      Ewallet   40.35                 4.761905   \n",
       "996   3/2/2019  17:16      Ewallet  973.80                 4.761905   \n",
       "997   2/9/2019  13:22         Cash   31.84                 4.761905   \n",
       "998  2/22/2019  15:33         Cash   65.82                 4.761905   \n",
       "999  2/18/2019  13:28         Cash  618.38                 4.761905   \n",
       "\n",
       "     gross income  Rating  \n",
       "0         26.1415     9.1  \n",
       "1          3.8200     9.6  \n",
       "2         16.2155     7.4  \n",
       "3         23.2880     8.4  \n",
       "4         30.2085     5.3  \n",
       "..            ...     ...  \n",
       "995        2.0175     6.2  \n",
       "996       48.6900     4.4  \n",
       "997        1.5920     7.7  \n",
       "998        3.2910     4.1  \n",
       "999       30.9190     6.6  \n",
       "\n",
       "[1000 rows x 17 columns]"
      ]
     },
     "execution_count": 85,
     "metadata": {},
     "output_type": "execute_result"
    }
   ],
   "source": [
    "data=pd.read_csv(r\"C:\\Users\\omar\\Downloads\\supermarket_sales - Sheet1.csv\")\n",
    "df=data.copy()\n",
    "df"
   ]
  },
  {
   "cell_type": "code",
   "execution_count": 86,
   "id": "0224df96-0272-4040-bdc8-137097f285d8",
   "metadata": {},
   "outputs": [
    {
     "data": {
      "text/html": [
       "<div>\n",
       "<style scoped>\n",
       "    .dataframe tbody tr th:only-of-type {\n",
       "        vertical-align: middle;\n",
       "    }\n",
       "\n",
       "    .dataframe tbody tr th {\n",
       "        vertical-align: top;\n",
       "    }\n",
       "\n",
       "    .dataframe thead th {\n",
       "        text-align: right;\n",
       "    }\n",
       "</style>\n",
       "<table border=\"1\" class=\"dataframe\">\n",
       "  <thead>\n",
       "    <tr style=\"text-align: right;\">\n",
       "      <th></th>\n",
       "      <th>Invoice ID</th>\n",
       "      <th>Branch</th>\n",
       "      <th>City</th>\n",
       "      <th>Customer type</th>\n",
       "      <th>Gender</th>\n",
       "      <th>Product line</th>\n",
       "      <th>Unit price</th>\n",
       "      <th>Quantity</th>\n",
       "      <th>Tax 5%</th>\n",
       "      <th>Total</th>\n",
       "      <th>Date</th>\n",
       "      <th>Time</th>\n",
       "      <th>Payment</th>\n",
       "      <th>cogs</th>\n",
       "      <th>gross margin percentage</th>\n",
       "      <th>gross income</th>\n",
       "      <th>Rating</th>\n",
       "    </tr>\n",
       "  </thead>\n",
       "  <tbody>\n",
       "    <tr>\n",
       "      <th>276</th>\n",
       "      <td>526-86-8552</td>\n",
       "      <td>C</td>\n",
       "      <td>Naypyitaw</td>\n",
       "      <td>Member</td>\n",
       "      <td>Female</td>\n",
       "      <td>Home and lifestyle</td>\n",
       "      <td>21.82</td>\n",
       "      <td>10</td>\n",
       "      <td>10.9100</td>\n",
       "      <td>229.1100</td>\n",
       "      <td>1/7/2019</td>\n",
       "      <td>17:36</td>\n",
       "      <td>Cash</td>\n",
       "      <td>218.20</td>\n",
       "      <td>4.761905</td>\n",
       "      <td>10.9100</td>\n",
       "      <td>7.1</td>\n",
       "    </tr>\n",
       "    <tr>\n",
       "      <th>486</th>\n",
       "      <td>709-58-4068</td>\n",
       "      <td>B</td>\n",
       "      <td>Mandalay</td>\n",
       "      <td>Normal</td>\n",
       "      <td>Female</td>\n",
       "      <td>Fashion accessories</td>\n",
       "      <td>41.09</td>\n",
       "      <td>10</td>\n",
       "      <td>20.5450</td>\n",
       "      <td>431.4450</td>\n",
       "      <td>2/28/2019</td>\n",
       "      <td>14:42</td>\n",
       "      <td>Cash</td>\n",
       "      <td>410.90</td>\n",
       "      <td>4.761905</td>\n",
       "      <td>20.5450</td>\n",
       "      <td>7.3</td>\n",
       "    </tr>\n",
       "    <tr>\n",
       "      <th>726</th>\n",
       "      <td>442-44-6497</td>\n",
       "      <td>C</td>\n",
       "      <td>Naypyitaw</td>\n",
       "      <td>Member</td>\n",
       "      <td>Male</td>\n",
       "      <td>Home and lifestyle</td>\n",
       "      <td>55.57</td>\n",
       "      <td>3</td>\n",
       "      <td>8.3355</td>\n",
       "      <td>175.0455</td>\n",
       "      <td>1/8/2019</td>\n",
       "      <td>11:42</td>\n",
       "      <td>Credit card</td>\n",
       "      <td>166.71</td>\n",
       "      <td>4.761905</td>\n",
       "      <td>8.3355</td>\n",
       "      <td>5.9</td>\n",
       "    </tr>\n",
       "    <tr>\n",
       "      <th>380</th>\n",
       "      <td>289-15-7034</td>\n",
       "      <td>A</td>\n",
       "      <td>Yangon</td>\n",
       "      <td>Member</td>\n",
       "      <td>Male</td>\n",
       "      <td>Sports and travel</td>\n",
       "      <td>82.33</td>\n",
       "      <td>4</td>\n",
       "      <td>16.4660</td>\n",
       "      <td>345.7860</td>\n",
       "      <td>1/11/2019</td>\n",
       "      <td>10:37</td>\n",
       "      <td>Credit card</td>\n",
       "      <td>329.32</td>\n",
       "      <td>4.761905</td>\n",
       "      <td>16.4660</td>\n",
       "      <td>7.5</td>\n",
       "    </tr>\n",
       "    <tr>\n",
       "      <th>314</th>\n",
       "      <td>227-07-4446</td>\n",
       "      <td>C</td>\n",
       "      <td>Naypyitaw</td>\n",
       "      <td>Member</td>\n",
       "      <td>Female</td>\n",
       "      <td>Electronic accessories</td>\n",
       "      <td>78.13</td>\n",
       "      <td>10</td>\n",
       "      <td>39.0650</td>\n",
       "      <td>820.3650</td>\n",
       "      <td>2/10/2019</td>\n",
       "      <td>20:51</td>\n",
       "      <td>Cash</td>\n",
       "      <td>781.30</td>\n",
       "      <td>4.761905</td>\n",
       "      <td>39.0650</td>\n",
       "      <td>4.4</td>\n",
       "    </tr>\n",
       "  </tbody>\n",
       "</table>\n",
       "</div>"
      ],
      "text/plain": [
       "      Invoice ID Branch       City Customer type  Gender  \\\n",
       "276  526-86-8552      C  Naypyitaw        Member  Female   \n",
       "486  709-58-4068      B   Mandalay        Normal  Female   \n",
       "726  442-44-6497      C  Naypyitaw        Member    Male   \n",
       "380  289-15-7034      A     Yangon        Member    Male   \n",
       "314  227-07-4446      C  Naypyitaw        Member  Female   \n",
       "\n",
       "               Product line  Unit price  Quantity   Tax 5%     Total  \\\n",
       "276      Home and lifestyle       21.82        10  10.9100  229.1100   \n",
       "486     Fashion accessories       41.09        10  20.5450  431.4450   \n",
       "726      Home and lifestyle       55.57         3   8.3355  175.0455   \n",
       "380       Sports and travel       82.33         4  16.4660  345.7860   \n",
       "314  Electronic accessories       78.13        10  39.0650  820.3650   \n",
       "\n",
       "          Date   Time      Payment    cogs  gross margin percentage  \\\n",
       "276   1/7/2019  17:36         Cash  218.20                 4.761905   \n",
       "486  2/28/2019  14:42         Cash  410.90                 4.761905   \n",
       "726   1/8/2019  11:42  Credit card  166.71                 4.761905   \n",
       "380  1/11/2019  10:37  Credit card  329.32                 4.761905   \n",
       "314  2/10/2019  20:51         Cash  781.30                 4.761905   \n",
       "\n",
       "     gross income  Rating  \n",
       "276       10.9100     7.1  \n",
       "486       20.5450     7.3  \n",
       "726        8.3355     5.9  \n",
       "380       16.4660     7.5  \n",
       "314       39.0650     4.4  "
      ]
     },
     "execution_count": 86,
     "metadata": {},
     "output_type": "execute_result"
    }
   ],
   "source": [
    "df.sample(5)"
   ]
  },
  {
   "cell_type": "code",
   "execution_count": 87,
   "id": "aceb82ac-2df9-48bd-8c1f-85b08af273a1",
   "metadata": {},
   "outputs": [
    {
     "name": "stdout",
     "output_type": "stream",
     "text": [
      "<class 'pandas.core.frame.DataFrame'>\n",
      "RangeIndex: 1000 entries, 0 to 999\n",
      "Data columns (total 17 columns):\n",
      " #   Column                   Non-Null Count  Dtype  \n",
      "---  ------                   --------------  -----  \n",
      " 0   Invoice ID               1000 non-null   object \n",
      " 1   Branch                   1000 non-null   object \n",
      " 2   City                     1000 non-null   object \n",
      " 3   Customer type            1000 non-null   object \n",
      " 4   Gender                   1000 non-null   object \n",
      " 5   Product line             1000 non-null   object \n",
      " 6   Unit price               1000 non-null   float64\n",
      " 7   Quantity                 1000 non-null   int64  \n",
      " 8   Tax 5%                   1000 non-null   float64\n",
      " 9   Total                    1000 non-null   float64\n",
      " 10  Date                     1000 non-null   object \n",
      " 11  Time                     1000 non-null   object \n",
      " 12  Payment                  1000 non-null   object \n",
      " 13  cogs                     1000 non-null   float64\n",
      " 14  gross margin percentage  1000 non-null   float64\n",
      " 15  gross income             1000 non-null   float64\n",
      " 16  Rating                   1000 non-null   float64\n",
      "dtypes: float64(7), int64(1), object(9)\n",
      "memory usage: 132.9+ KB\n"
     ]
    }
   ],
   "source": [
    "df.info()"
   ]
  },
  {
   "cell_type": "code",
   "execution_count": 88,
   "id": "f3be346b-8d67-477c-945e-abb252bddd4b",
   "metadata": {},
   "outputs": [
    {
     "data": {
      "text/plain": [
       "Invoice ID                 1000\n",
       "Branch                        3\n",
       "City                          3\n",
       "Customer type                 2\n",
       "Gender                        2\n",
       "Product line                  6\n",
       "Unit price                  943\n",
       "Quantity                     10\n",
       "Tax 5%                      990\n",
       "Total                       990\n",
       "Date                         89\n",
       "Time                        506\n",
       "Payment                       3\n",
       "cogs                        990\n",
       "gross margin percentage       1\n",
       "gross income                990\n",
       "Rating                       61\n",
       "dtype: int64"
      ]
     },
     "execution_count": 88,
     "metadata": {},
     "output_type": "execute_result"
    }
   ],
   "source": [
    "df.nunique()"
   ]
  },
  {
   "cell_type": "code",
   "execution_count": 89,
   "id": "2a47eaab-c612-485b-a38a-1233422fbea2",
   "metadata": {},
   "outputs": [
    {
     "data": {
      "text/plain": [
       "Invoice ID                 0\n",
       "Branch                     0\n",
       "City                       0\n",
       "Customer type              0\n",
       "Gender                     0\n",
       "Product line               0\n",
       "Unit price                 0\n",
       "Quantity                   0\n",
       "Tax 5%                     0\n",
       "Total                      0\n",
       "Date                       0\n",
       "Time                       0\n",
       "Payment                    0\n",
       "cogs                       0\n",
       "gross margin percentage    0\n",
       "gross income               0\n",
       "Rating                     0\n",
       "dtype: int64"
      ]
     },
     "execution_count": 89,
     "metadata": {},
     "output_type": "execute_result"
    }
   ],
   "source": [
    "df.isnull().sum()"
   ]
  },
  {
   "cell_type": "code",
   "execution_count": 90,
   "id": "0c8f1035-2656-4820-b746-023913f5cde9",
   "metadata": {},
   "outputs": [
    {
     "data": {
      "text/html": [
       "<div>\n",
       "<style scoped>\n",
       "    .dataframe tbody tr th:only-of-type {\n",
       "        vertical-align: middle;\n",
       "    }\n",
       "\n",
       "    .dataframe tbody tr th {\n",
       "        vertical-align: top;\n",
       "    }\n",
       "\n",
       "    .dataframe thead th {\n",
       "        text-align: right;\n",
       "    }\n",
       "</style>\n",
       "<table border=\"1\" class=\"dataframe\">\n",
       "  <thead>\n",
       "    <tr style=\"text-align: right;\">\n",
       "      <th></th>\n",
       "      <th>Invoice ID</th>\n",
       "      <th>Branch</th>\n",
       "      <th>City</th>\n",
       "      <th>Customer type</th>\n",
       "      <th>Gender</th>\n",
       "      <th>Product line</th>\n",
       "      <th>Unit price</th>\n",
       "      <th>Quantity</th>\n",
       "      <th>Tax 5%</th>\n",
       "      <th>Total</th>\n",
       "      <th>Date</th>\n",
       "      <th>Time</th>\n",
       "      <th>Payment</th>\n",
       "      <th>cogs</th>\n",
       "      <th>gross margin percentage</th>\n",
       "      <th>gross income</th>\n",
       "      <th>Rating</th>\n",
       "    </tr>\n",
       "  </thead>\n",
       "  <tbody>\n",
       "    <tr>\n",
       "      <th>count</th>\n",
       "      <td>1000</td>\n",
       "      <td>1000</td>\n",
       "      <td>1000</td>\n",
       "      <td>1000</td>\n",
       "      <td>1000</td>\n",
       "      <td>1000</td>\n",
       "      <td>1000.000000</td>\n",
       "      <td>1000.000000</td>\n",
       "      <td>1000.000000</td>\n",
       "      <td>1000.000000</td>\n",
       "      <td>1000</td>\n",
       "      <td>1000</td>\n",
       "      <td>1000</td>\n",
       "      <td>1000.00000</td>\n",
       "      <td>1.000000e+03</td>\n",
       "      <td>1000.000000</td>\n",
       "      <td>1000.00000</td>\n",
       "    </tr>\n",
       "    <tr>\n",
       "      <th>unique</th>\n",
       "      <td>1000</td>\n",
       "      <td>3</td>\n",
       "      <td>3</td>\n",
       "      <td>2</td>\n",
       "      <td>2</td>\n",
       "      <td>6</td>\n",
       "      <td>NaN</td>\n",
       "      <td>NaN</td>\n",
       "      <td>NaN</td>\n",
       "      <td>NaN</td>\n",
       "      <td>89</td>\n",
       "      <td>506</td>\n",
       "      <td>3</td>\n",
       "      <td>NaN</td>\n",
       "      <td>NaN</td>\n",
       "      <td>NaN</td>\n",
       "      <td>NaN</td>\n",
       "    </tr>\n",
       "    <tr>\n",
       "      <th>top</th>\n",
       "      <td>750-67-8428</td>\n",
       "      <td>A</td>\n",
       "      <td>Yangon</td>\n",
       "      <td>Member</td>\n",
       "      <td>Female</td>\n",
       "      <td>Fashion accessories</td>\n",
       "      <td>NaN</td>\n",
       "      <td>NaN</td>\n",
       "      <td>NaN</td>\n",
       "      <td>NaN</td>\n",
       "      <td>2/7/2019</td>\n",
       "      <td>19:48</td>\n",
       "      <td>Ewallet</td>\n",
       "      <td>NaN</td>\n",
       "      <td>NaN</td>\n",
       "      <td>NaN</td>\n",
       "      <td>NaN</td>\n",
       "    </tr>\n",
       "    <tr>\n",
       "      <th>freq</th>\n",
       "      <td>1</td>\n",
       "      <td>340</td>\n",
       "      <td>340</td>\n",
       "      <td>501</td>\n",
       "      <td>501</td>\n",
       "      <td>178</td>\n",
       "      <td>NaN</td>\n",
       "      <td>NaN</td>\n",
       "      <td>NaN</td>\n",
       "      <td>NaN</td>\n",
       "      <td>20</td>\n",
       "      <td>7</td>\n",
       "      <td>345</td>\n",
       "      <td>NaN</td>\n",
       "      <td>NaN</td>\n",
       "      <td>NaN</td>\n",
       "      <td>NaN</td>\n",
       "    </tr>\n",
       "    <tr>\n",
       "      <th>mean</th>\n",
       "      <td>NaN</td>\n",
       "      <td>NaN</td>\n",
       "      <td>NaN</td>\n",
       "      <td>NaN</td>\n",
       "      <td>NaN</td>\n",
       "      <td>NaN</td>\n",
       "      <td>55.672130</td>\n",
       "      <td>5.510000</td>\n",
       "      <td>15.379369</td>\n",
       "      <td>322.966749</td>\n",
       "      <td>NaN</td>\n",
       "      <td>NaN</td>\n",
       "      <td>NaN</td>\n",
       "      <td>307.58738</td>\n",
       "      <td>4.761905e+00</td>\n",
       "      <td>15.379369</td>\n",
       "      <td>6.97270</td>\n",
       "    </tr>\n",
       "    <tr>\n",
       "      <th>std</th>\n",
       "      <td>NaN</td>\n",
       "      <td>NaN</td>\n",
       "      <td>NaN</td>\n",
       "      <td>NaN</td>\n",
       "      <td>NaN</td>\n",
       "      <td>NaN</td>\n",
       "      <td>26.494628</td>\n",
       "      <td>2.923431</td>\n",
       "      <td>11.708825</td>\n",
       "      <td>245.885335</td>\n",
       "      <td>NaN</td>\n",
       "      <td>NaN</td>\n",
       "      <td>NaN</td>\n",
       "      <td>234.17651</td>\n",
       "      <td>6.131498e-14</td>\n",
       "      <td>11.708825</td>\n",
       "      <td>1.71858</td>\n",
       "    </tr>\n",
       "    <tr>\n",
       "      <th>min</th>\n",
       "      <td>NaN</td>\n",
       "      <td>NaN</td>\n",
       "      <td>NaN</td>\n",
       "      <td>NaN</td>\n",
       "      <td>NaN</td>\n",
       "      <td>NaN</td>\n",
       "      <td>10.080000</td>\n",
       "      <td>1.000000</td>\n",
       "      <td>0.508500</td>\n",
       "      <td>10.678500</td>\n",
       "      <td>NaN</td>\n",
       "      <td>NaN</td>\n",
       "      <td>NaN</td>\n",
       "      <td>10.17000</td>\n",
       "      <td>4.761905e+00</td>\n",
       "      <td>0.508500</td>\n",
       "      <td>4.00000</td>\n",
       "    </tr>\n",
       "    <tr>\n",
       "      <th>25%</th>\n",
       "      <td>NaN</td>\n",
       "      <td>NaN</td>\n",
       "      <td>NaN</td>\n",
       "      <td>NaN</td>\n",
       "      <td>NaN</td>\n",
       "      <td>NaN</td>\n",
       "      <td>32.875000</td>\n",
       "      <td>3.000000</td>\n",
       "      <td>5.924875</td>\n",
       "      <td>124.422375</td>\n",
       "      <td>NaN</td>\n",
       "      <td>NaN</td>\n",
       "      <td>NaN</td>\n",
       "      <td>118.49750</td>\n",
       "      <td>4.761905e+00</td>\n",
       "      <td>5.924875</td>\n",
       "      <td>5.50000</td>\n",
       "    </tr>\n",
       "    <tr>\n",
       "      <th>50%</th>\n",
       "      <td>NaN</td>\n",
       "      <td>NaN</td>\n",
       "      <td>NaN</td>\n",
       "      <td>NaN</td>\n",
       "      <td>NaN</td>\n",
       "      <td>NaN</td>\n",
       "      <td>55.230000</td>\n",
       "      <td>5.000000</td>\n",
       "      <td>12.088000</td>\n",
       "      <td>253.848000</td>\n",
       "      <td>NaN</td>\n",
       "      <td>NaN</td>\n",
       "      <td>NaN</td>\n",
       "      <td>241.76000</td>\n",
       "      <td>4.761905e+00</td>\n",
       "      <td>12.088000</td>\n",
       "      <td>7.00000</td>\n",
       "    </tr>\n",
       "    <tr>\n",
       "      <th>75%</th>\n",
       "      <td>NaN</td>\n",
       "      <td>NaN</td>\n",
       "      <td>NaN</td>\n",
       "      <td>NaN</td>\n",
       "      <td>NaN</td>\n",
       "      <td>NaN</td>\n",
       "      <td>77.935000</td>\n",
       "      <td>8.000000</td>\n",
       "      <td>22.445250</td>\n",
       "      <td>471.350250</td>\n",
       "      <td>NaN</td>\n",
       "      <td>NaN</td>\n",
       "      <td>NaN</td>\n",
       "      <td>448.90500</td>\n",
       "      <td>4.761905e+00</td>\n",
       "      <td>22.445250</td>\n",
       "      <td>8.50000</td>\n",
       "    </tr>\n",
       "    <tr>\n",
       "      <th>max</th>\n",
       "      <td>NaN</td>\n",
       "      <td>NaN</td>\n",
       "      <td>NaN</td>\n",
       "      <td>NaN</td>\n",
       "      <td>NaN</td>\n",
       "      <td>NaN</td>\n",
       "      <td>99.960000</td>\n",
       "      <td>10.000000</td>\n",
       "      <td>49.650000</td>\n",
       "      <td>1042.650000</td>\n",
       "      <td>NaN</td>\n",
       "      <td>NaN</td>\n",
       "      <td>NaN</td>\n",
       "      <td>993.00000</td>\n",
       "      <td>4.761905e+00</td>\n",
       "      <td>49.650000</td>\n",
       "      <td>10.00000</td>\n",
       "    </tr>\n",
       "  </tbody>\n",
       "</table>\n",
       "</div>"
      ],
      "text/plain": [
       "         Invoice ID Branch    City Customer type  Gender         Product line  \\\n",
       "count          1000   1000    1000          1000    1000                 1000   \n",
       "unique         1000      3       3             2       2                    6   \n",
       "top     750-67-8428      A  Yangon        Member  Female  Fashion accessories   \n",
       "freq              1    340     340           501     501                  178   \n",
       "mean            NaN    NaN     NaN           NaN     NaN                  NaN   \n",
       "std             NaN    NaN     NaN           NaN     NaN                  NaN   \n",
       "min             NaN    NaN     NaN           NaN     NaN                  NaN   \n",
       "25%             NaN    NaN     NaN           NaN     NaN                  NaN   \n",
       "50%             NaN    NaN     NaN           NaN     NaN                  NaN   \n",
       "75%             NaN    NaN     NaN           NaN     NaN                  NaN   \n",
       "max             NaN    NaN     NaN           NaN     NaN                  NaN   \n",
       "\n",
       "         Unit price     Quantity       Tax 5%        Total      Date   Time  \\\n",
       "count   1000.000000  1000.000000  1000.000000  1000.000000      1000   1000   \n",
       "unique          NaN          NaN          NaN          NaN        89    506   \n",
       "top             NaN          NaN          NaN          NaN  2/7/2019  19:48   \n",
       "freq            NaN          NaN          NaN          NaN        20      7   \n",
       "mean      55.672130     5.510000    15.379369   322.966749       NaN    NaN   \n",
       "std       26.494628     2.923431    11.708825   245.885335       NaN    NaN   \n",
       "min       10.080000     1.000000     0.508500    10.678500       NaN    NaN   \n",
       "25%       32.875000     3.000000     5.924875   124.422375       NaN    NaN   \n",
       "50%       55.230000     5.000000    12.088000   253.848000       NaN    NaN   \n",
       "75%       77.935000     8.000000    22.445250   471.350250       NaN    NaN   \n",
       "max       99.960000    10.000000    49.650000  1042.650000       NaN    NaN   \n",
       "\n",
       "        Payment        cogs  gross margin percentage  gross income      Rating  \n",
       "count      1000  1000.00000             1.000000e+03   1000.000000  1000.00000  \n",
       "unique        3         NaN                      NaN           NaN         NaN  \n",
       "top     Ewallet         NaN                      NaN           NaN         NaN  \n",
       "freq        345         NaN                      NaN           NaN         NaN  \n",
       "mean        NaN   307.58738             4.761905e+00     15.379369     6.97270  \n",
       "std         NaN   234.17651             6.131498e-14     11.708825     1.71858  \n",
       "min         NaN    10.17000             4.761905e+00      0.508500     4.00000  \n",
       "25%         NaN   118.49750             4.761905e+00      5.924875     5.50000  \n",
       "50%         NaN   241.76000             4.761905e+00     12.088000     7.00000  \n",
       "75%         NaN   448.90500             4.761905e+00     22.445250     8.50000  \n",
       "max         NaN   993.00000             4.761905e+00     49.650000    10.00000  "
      ]
     },
     "execution_count": 90,
     "metadata": {},
     "output_type": "execute_result"
    }
   ],
   "source": [
    "df.describe(include='all')"
   ]
  },
  {
   "cell_type": "markdown",
   "id": "5a0485ba-ec2c-4ad5-930a-76bc7d53c224",
   "metadata": {},
   "source": [
    "**Insights**\n",
    "- 1- This dataset show details of 3 branches(A,B,C) sales for a supermarket through the first quarter of 2019\n",
    "- 2- data has 17 columns and 1000 rows\n",
    "- 3- all columns have no nulls\n",
    "- 4-Product line feature has 1000 values with 6 unique values\n",
    "- 5-the highest Product line freq is Fashion accessories with 178 times\n",
    "- 6-the highest Gender freq is Female with 501 times\n",
    "- 7-the highest Branch freq is A with 340 times\n",
    "- 8- The gross margin percentage is a uniform percentage for all products and equals 4.761905%\n",
    "- 9- The mean of rating feature is 6.97270 and the median is 7\n",
    "- 10-min rating is 4 and max rating is 10\n",
    "- 11- the most comon payment method is Ewallet\t"
   ]
  },
  {
   "cell_type": "code",
   "execution_count": 92,
   "id": "68dd0f68-2020-4e53-8354-6007a2ba12dd",
   "metadata": {},
   "outputs": [
    {
     "data": {
      "text/html": [
       "<div>\n",
       "<style scoped>\n",
       "    .dataframe tbody tr th:only-of-type {\n",
       "        vertical-align: middle;\n",
       "    }\n",
       "\n",
       "    .dataframe tbody tr th {\n",
       "        vertical-align: top;\n",
       "    }\n",
       "\n",
       "    .dataframe thead th {\n",
       "        text-align: right;\n",
       "    }\n",
       "</style>\n",
       "<table border=\"1\" class=\"dataframe\">\n",
       "  <thead>\n",
       "    <tr style=\"text-align: right;\">\n",
       "      <th></th>\n",
       "      <th>Unit price</th>\n",
       "      <th>Quantity</th>\n",
       "      <th>Tax 5%</th>\n",
       "      <th>Total</th>\n",
       "      <th>cogs</th>\n",
       "      <th>gross margin percentage</th>\n",
       "      <th>gross income</th>\n",
       "      <th>Rating</th>\n",
       "    </tr>\n",
       "  </thead>\n",
       "  <tbody>\n",
       "    <tr>\n",
       "      <th>Unit price</th>\n",
       "      <td>1.000000</td>\n",
       "      <td>0.010778</td>\n",
       "      <td>0.633962</td>\n",
       "      <td>0.633962</td>\n",
       "      <td>0.633962</td>\n",
       "      <td>NaN</td>\n",
       "      <td>0.633962</td>\n",
       "      <td>-0.008778</td>\n",
       "    </tr>\n",
       "    <tr>\n",
       "      <th>Quantity</th>\n",
       "      <td>0.010778</td>\n",
       "      <td>1.000000</td>\n",
       "      <td>0.705510</td>\n",
       "      <td>0.705510</td>\n",
       "      <td>0.705510</td>\n",
       "      <td>NaN</td>\n",
       "      <td>0.705510</td>\n",
       "      <td>-0.015815</td>\n",
       "    </tr>\n",
       "    <tr>\n",
       "      <th>Tax 5%</th>\n",
       "      <td>0.633962</td>\n",
       "      <td>0.705510</td>\n",
       "      <td>1.000000</td>\n",
       "      <td>1.000000</td>\n",
       "      <td>1.000000</td>\n",
       "      <td>NaN</td>\n",
       "      <td>1.000000</td>\n",
       "      <td>-0.036442</td>\n",
       "    </tr>\n",
       "    <tr>\n",
       "      <th>Total</th>\n",
       "      <td>0.633962</td>\n",
       "      <td>0.705510</td>\n",
       "      <td>1.000000</td>\n",
       "      <td>1.000000</td>\n",
       "      <td>1.000000</td>\n",
       "      <td>NaN</td>\n",
       "      <td>1.000000</td>\n",
       "      <td>-0.036442</td>\n",
       "    </tr>\n",
       "    <tr>\n",
       "      <th>cogs</th>\n",
       "      <td>0.633962</td>\n",
       "      <td>0.705510</td>\n",
       "      <td>1.000000</td>\n",
       "      <td>1.000000</td>\n",
       "      <td>1.000000</td>\n",
       "      <td>NaN</td>\n",
       "      <td>1.000000</td>\n",
       "      <td>-0.036442</td>\n",
       "    </tr>\n",
       "    <tr>\n",
       "      <th>gross margin percentage</th>\n",
       "      <td>NaN</td>\n",
       "      <td>NaN</td>\n",
       "      <td>NaN</td>\n",
       "      <td>NaN</td>\n",
       "      <td>NaN</td>\n",
       "      <td>NaN</td>\n",
       "      <td>NaN</td>\n",
       "      <td>NaN</td>\n",
       "    </tr>\n",
       "    <tr>\n",
       "      <th>gross income</th>\n",
       "      <td>0.633962</td>\n",
       "      <td>0.705510</td>\n",
       "      <td>1.000000</td>\n",
       "      <td>1.000000</td>\n",
       "      <td>1.000000</td>\n",
       "      <td>NaN</td>\n",
       "      <td>1.000000</td>\n",
       "      <td>-0.036442</td>\n",
       "    </tr>\n",
       "    <tr>\n",
       "      <th>Rating</th>\n",
       "      <td>-0.008778</td>\n",
       "      <td>-0.015815</td>\n",
       "      <td>-0.036442</td>\n",
       "      <td>-0.036442</td>\n",
       "      <td>-0.036442</td>\n",
       "      <td>NaN</td>\n",
       "      <td>-0.036442</td>\n",
       "      <td>1.000000</td>\n",
       "    </tr>\n",
       "  </tbody>\n",
       "</table>\n",
       "</div>"
      ],
      "text/plain": [
       "                         Unit price  Quantity    Tax 5%     Total      cogs  \\\n",
       "Unit price                 1.000000  0.010778  0.633962  0.633962  0.633962   \n",
       "Quantity                   0.010778  1.000000  0.705510  0.705510  0.705510   \n",
       "Tax 5%                     0.633962  0.705510  1.000000  1.000000  1.000000   \n",
       "Total                      0.633962  0.705510  1.000000  1.000000  1.000000   \n",
       "cogs                       0.633962  0.705510  1.000000  1.000000  1.000000   \n",
       "gross margin percentage         NaN       NaN       NaN       NaN       NaN   \n",
       "gross income               0.633962  0.705510  1.000000  1.000000  1.000000   \n",
       "Rating                    -0.008778 -0.015815 -0.036442 -0.036442 -0.036442   \n",
       "\n",
       "                         gross margin percentage  gross income    Rating  \n",
       "Unit price                                   NaN      0.633962 -0.008778  \n",
       "Quantity                                     NaN      0.705510 -0.015815  \n",
       "Tax 5%                                       NaN      1.000000 -0.036442  \n",
       "Total                                        NaN      1.000000 -0.036442  \n",
       "cogs                                         NaN      1.000000 -0.036442  \n",
       "gross margin percentage                      NaN           NaN       NaN  \n",
       "gross income                                 NaN      1.000000 -0.036442  \n",
       "Rating                                       NaN     -0.036442  1.000000  "
      ]
     },
     "execution_count": 92,
     "metadata": {},
     "output_type": "execute_result"
    }
   ],
   "source": [
    "df.corr(numeric_only=True)"
   ]
  },
  {
   "cell_type": "code",
   "execution_count": 93,
   "id": "dcbefdea-667e-4c09-9776-9e41b5d0ae06",
   "metadata": {},
   "outputs": [
    {
     "name": "stderr",
     "output_type": "stream",
     "text": [
      "F:\\New\\Lib\\site-packages\\seaborn\\matrix.py:260: FutureWarning:\n",
      "\n",
      "Format strings passed to MaskedConstant are ignored, but in future may error or produce different behavior\n",
      "\n"
     ]
    },
    {
     "data": {
      "image/png": "[encoded data removed]",
      "text/plain": [
       "<Figure size 640x480 with 2 Axes>"
      ]
     },
     "metadata": {},
     "output_type": "display_data"
    }
   ],
   "source": [
    "correlation_matrix = df.corr(numeric_only=True) \n",
    "sns.heatmap(correlation_matrix,\n",
    "             annot=True,\n",
    "             ) \n",
    "plt.title('Correlation Matrix') \n",
    "plt.show()\n"
   ]
  },
  {
   "cell_type": "code",
   "execution_count": 94,
   "id": "4fef06cb-3805-4552-a6f2-67831d8e2a0b",
   "metadata": {},
   "outputs": [],
   "source": [
    "df['Date']=pd.to_datetime(df['Date'])"
   ]
  },
  {
   "cell_type": "code",
   "execution_count": 95,
   "id": "e5435e97-13b7-4be3-9658-8a15fa8b2664",
   "metadata": {},
   "outputs": [
    {
     "data": {
      "text/plain": [
       "Branch\n",
       "C    5265.1765\n",
       "A    5057.1605\n",
       "B    5057.0320\n",
       "Name: gross income, dtype: float64"
      ]
     },
     "execution_count": 95,
     "metadata": {},
     "output_type": "execute_result"
    }
   ],
   "source": [
    "branch_income=df.groupby('Branch')['gross income'].sum().sort_values(ascending=False)\n",
    "branch_income"
   ]
  },
  {
   "cell_type": "code",
   "execution_count": 96,
   "id": "80bd2b39-c244-43cb-85bd-034c997becd0",
   "metadata": {},
   "outputs": [
    {
     "data": {
      "image/png": "[encoded data removed]",
      "text/plain": [
       "<Figure size 640x480 with 1 Axes>"
      ]
     },
     "metadata": {},
     "output_type": "display_data"
    }
   ],
   "source": [
    "plt.bar(x=branch_income.index,height=branch_income.values,width=0.5)\n",
    "plt.xlabel('Branch')\n",
    "plt.ylabel('Total gross income')\n",
    "plt.title('Total gross income by branch through the first quarter in 2019')\n",
    "plt.show()"
   ]
  },
  {
   "cell_type": "code",
   "execution_count": 97,
   "id": "02c2b6cf-1cfb-4f93-9f23-b051a204bf29",
   "metadata": {},
   "outputs": [
    {
     "data": {
      "text/html": [
       "<div>\n",
       "<style scoped>\n",
       "    .dataframe tbody tr th:only-of-type {\n",
       "        vertical-align: middle;\n",
       "    }\n",
       "\n",
       "    .dataframe tbody tr th {\n",
       "        vertical-align: top;\n",
       "    }\n",
       "\n",
       "    .dataframe thead th {\n",
       "        text-align: right;\n",
       "    }\n",
       "</style>\n",
       "<table border=\"1\" class=\"dataframe\">\n",
       "  <thead>\n",
       "    <tr style=\"text-align: right;\">\n",
       "      <th>Branch</th>\n",
       "      <th>A</th>\n",
       "      <th>B</th>\n",
       "      <th>C</th>\n",
       "    </tr>\n",
       "    <tr>\n",
       "      <th>Product line</th>\n",
       "      <th></th>\n",
       "      <th></th>\n",
       "      <th></th>\n",
       "    </tr>\n",
       "  </thead>\n",
       "  <tbody>\n",
       "    <tr>\n",
       "      <th>Electronic accessories</th>\n",
       "      <td>872.2435</td>\n",
       "      <td>811.9735</td>\n",
       "      <td>903.2845</td>\n",
       "    </tr>\n",
       "    <tr>\n",
       "      <th>Fashion accessories</th>\n",
       "      <td>777.7385</td>\n",
       "      <td>781.5865</td>\n",
       "      <td>1026.6700</td>\n",
       "    </tr>\n",
       "    <tr>\n",
       "      <th>Food and beverages</th>\n",
       "      <td>817.2905</td>\n",
       "      <td>724.5185</td>\n",
       "      <td>1131.7550</td>\n",
       "    </tr>\n",
       "    <tr>\n",
       "      <th>Health and beauty</th>\n",
       "      <td>599.8930</td>\n",
       "      <td>951.4600</td>\n",
       "      <td>791.2060</td>\n",
       "    </tr>\n",
       "    <tr>\n",
       "      <th>Home and lifestyle</th>\n",
       "      <td>1067.4855</td>\n",
       "      <td>835.6745</td>\n",
       "      <td>661.6930</td>\n",
       "    </tr>\n",
       "    <tr>\n",
       "      <th>Sports and travel</th>\n",
       "      <td>922.5095</td>\n",
       "      <td>951.8190</td>\n",
       "      <td>750.5680</td>\n",
       "    </tr>\n",
       "  </tbody>\n",
       "</table>\n",
       "</div>"
      ],
      "text/plain": [
       "Branch                          A         B          C\n",
       "Product line                                          \n",
       "Electronic accessories   872.2435  811.9735   903.2845\n",
       "Fashion accessories      777.7385  781.5865  1026.6700\n",
       "Food and beverages       817.2905  724.5185  1131.7550\n",
       "Health and beauty        599.8930  951.4600   791.2060\n",
       "Home and lifestyle      1067.4855  835.6745   661.6930\n",
       "Sports and travel        922.5095  951.8190   750.5680"
      ]
     },
     "execution_count": 97,
     "metadata": {},
     "output_type": "execute_result"
    }
   ],
   "source": [
    "branch_productline_income=df.pivot_table(index='Product line',\n",
    "                                        columns='Branch',\n",
    "                                        values='gross income',\n",
    "                                         aggfunc='sum'\n",
    "                                        )\n",
    "branch_productline_income"
   ]
  },
  {
   "cell_type": "code",
   "execution_count": 98,
   "id": "21d5180f-8871-48d6-ac18-ceb0d4504692",
   "metadata": {},
   "outputs": [
    {
     "data": {
      "image/png": "[encoded data removed]",
      "text/plain": [
       "<Figure size 1000x600 with 1 Axes>"
      ]
     },
     "metadata": {},
     "output_type": "display_data"
    }
   ],
   "source": [
    "branch_productline_income.plot(kind='bar', stacked=False ,figsize=(10, 6))\n",
    "plt.title('Income by Product Line and Branch through the first quarter of 2019')\n",
    "plt.xlabel('Product Line')\n",
    "plt.ylabel('Total Income')\n",
    "plt.legend(title='Branch', bbox_to_anchor=(1, 1)) \n",
    "plt.xticks(rotation=45)\n",
    "plt.show()"
   ]
  },
  {
   "cell_type": "code",
   "execution_count": 99,
   "id": "121181de-7309-46cb-9c21-7cbed864a623",
   "metadata": {},
   "outputs": [],
   "source": [
    "daily_gross_income=df.pivot_table(index='Date',\n",
    "                                  columns='Branch',\n",
    "                                  values='gross income',\n",
    "                                  fill_value = 0,\n",
    "                                  aggfunc='sum'\n",
    "                                 )"
   ]
  },
  {
   "cell_type": "code",
   "execution_count": 100,
   "id": "d559d8ac-0179-4a40-9411-5ee8e380c5d0",
   "metadata": {},
   "outputs": [
    {
     "name": "stderr",
     "output_type": "stream",
     "text": [
      "F:\\New\\Lib\\site-packages\\_plotly_utils\\basevalidators.py:106: FutureWarning:\n",
      "\n",
      "The behavior of DatetimeProperties.to_pydatetime is deprecated, in a future version this will return a Series containing python datetime objects instead of an ndarray. To retain the old behavior, call `np.array` on the result\n",
      "\n"
     ]
    },
    {
     "data": {
      "application/vnd.plotly.v1+json": {
       "config": {
        "plotlyServerURL": "https://plot.ly"
       },
       "data": [
        {
         "hovertemplate": "Branch=A<br>Date=%{x}<br>Gross Income=%{y}<extra></extra>",
         "legendgroup": "A",
         "line": {
          "color": "#636efa",
          "dash": "solid"
         },
         "marker": {
          "symbol": "circle"
         },
         "mode": "lines",
         "name": "A",
         "orientation": "v",
         "showlegend": true,
         "type": "scatter",
         "x": [
          "2019-01-01T00:00:00",
          "2019-01-02T00:00:00",
          "2019-01-03T00:00:00",
          "2019-01-04T00:00:00",
          "2019-01-05T00:00:00",
          "2019-01-06T00:00:00",
          "2019-01-07T00:00:00",
          "2019-01-08T00:00:00",
          "2019-01-09T00:00:00",
          "2019-01-10T00:00:00",
          "2019-01-11T00:00:00",
          "2019-01-12T00:00:00",
          "2019-01-13T00:00:00",
          "2019-01-14T00:00:00",
          "2019-01-15T00:00:00",
          "2019-01-16T00:00:00",
          "2019-01-17T00:00:00",
          "2019-01-18T00:00:00",
          "2019-01-19T00:00:00",
          "2019-01-20T00:00:00",
          "2019-01-21T00:00:00",
          "2019-01-22T00:00:00",
          "2019-01-23T00:00:00",
          "2019-01-24T00:00:00",
          "2019-01-25T00:00:00",
          "2019-01-26T00:00:00",
          "2019-01-27T00:00:00",
          "2019-01-28T00:00:00",
          "2019-01-29T00:00:00",
          "2019-01-30T00:00:00",
          "2019-01-31T00:00:00",
          "2019-02-01T00:00:00",
          "2019-02-02T00:00:00",
          "2019-02-03T00:00:00",
          "2019-02-04T00:00:00",
          "2019-02-05T00:00:00",
          "2019-02-06T00:00:00",
          "2019-02-07T00:00:00",
          "2019-02-08T00:00:00",
          "2019-02-09T00:00:00",
          "2019-02-10T00:00:00",
          "2019-02-11T00:00:00",
          "2019-02-12T00:00:00",
          "2019-02-13T00:00:00",
          "2019-02-14T00:00:00",
          "2019-02-15T00:00:00",
          "2019-02-16T00:00:00",
          "2019-02-17T00:00:00",
          "2019-02-18T00:00:00",
          "2019-02-19T00:00:00",
          "2019-02-20T00:00:00",
          "2019-02-21T00:00:00",
          "2019-02-22T00:00:00",
          "2019-02-23T00:00:00",
          "2019-02-24T00:00:00",
          "2019-02-25T00:00:00",
          "2019-02-26T00:00:00",
          "2019-02-27T00:00:00",
          "2019-02-28T00:00:00",
          "2019-03-01T00:00:00",
          "2019-03-02T00:00:00",
          "2019-03-03T00:00:00",
          "2019-03-04T00:00:00",
          "2019-03-05T00:00:00",
          "2019-03-06T00:00:00",
          "2019-03-07T00:00:00",
          "2019-03-08T00:00:00",
          "2019-03-09T00:00:00",
          "2019-03-10T00:00:00",
          "2019-03-11T00:00:00",
          "2019-03-12T00:00:00",
          "2019-03-13T00:00:00",
          "2019-03-14T00:00:00",
          "2019-03-15T00:00:00",
          "2019-03-16T00:00:00",
          "2019-03-17T00:00:00",
          "2019-03-18T00:00:00",
          "2019-03-19T00:00:00",
          "2019-03-20T00:00:00",
          "2019-03-21T00:00:00",
          "2019-03-22T00:00:00",
          "2019-03-23T00:00:00",
          "2019-03-24T00:00:00",
          "2019-03-25T00:00:00",
          "2019-03-26T00:00:00",
          "2019-03-27T00:00:00",
          "2019-03-28T00:00:00",
          "2019-03-29T00:00:00",
          "2019-03-30T00:00:00"
         ],
         "xaxis": "x",
         "y": [
          112.92,
          14.6215,
          44.6385,
          23.0125,
          96.405,
          62.37949999999999,
          52.6645,
          32.5455,
          9.635,
          34.833,
          79.12700000000001,
          68.0495,
          52.9715,
          52.195,
          86.03150000000001,
          41.098,
          71.53450000000001,
          55.230000000000004,
          154.9755,
          82.14099999999999,
          75.797,
          38.203500000000005,
          112.4435,
          117.104,
          43.5155,
          19.762,
          79.7275,
          13.7075,
          72.615,
          14.067,
          28.0075,
          43.4255,
          48.569500000000005,
          129.398,
          59.0185,
          27.067999999999998,
          20.152,
          98.41,
          80.68350000000001,
          28.48,
          48.6985,
          30.964000000000002,
          26.5295,
          10.291,
          51.0865,
          58.248000000000005,
          8.687,
          146.236,
          44.369,
          98.2535,
          43.0015,
          14.196,
          24.246,
          14.694,
          24.898,
          86.016,
          7.4334999999999996,
          116.2715,
          32.586,
          30.677,
          30.5455,
          38.7865,
          135.7995,
          19.9375,
          49.206,
          17.5565,
          75.8225,
          132.39,
          70.438,
          81.4845,
          43.974,
          37.528999999999996,
          83.41,
          30.688499999999998,
          49.6525,
          53.954,
          18.552999999999997,
          90.1015,
          112.9745,
          62.3205,
          101.336,
          83.256,
          20.22,
          27.482,
          56.54,
          50.506,
          78.711,
          46.553,
          62.8865
         ],
         "yaxis": "y"
        },
        {
         "hovertemplate": "Branch=B<br>Date=%{x}<br>Gross Income=%{y}<extra></extra>",
         "legendgroup": "B",
         "line": {
          "color": "#EF553B",
          "dash": "solid"
         },
         "marker": {
          "symbol": "circle"
         },
         "mode": "lines",
         "name": "B",
         "orientation": "v",
         "showlegend": true,
         "type": "scatter",
         "x": [
          "2019-01-01T00:00:00",
          "2019-01-02T00:00:00",
          "2019-01-03T00:00:00",
          "2019-01-04T00:00:00",
          "2019-01-05T00:00:00",
          "2019-01-06T00:00:00",
          "2019-01-07T00:00:00",
          "2019-01-08T00:00:00",
          "2019-01-09T00:00:00",
          "2019-01-10T00:00:00",
          "2019-01-11T00:00:00",
          "2019-01-12T00:00:00",
          "2019-01-13T00:00:00",
          "2019-01-14T00:00:00",
          "2019-01-15T00:00:00",
          "2019-01-16T00:00:00",
          "2019-01-17T00:00:00",
          "2019-01-18T00:00:00",
          "2019-01-19T00:00:00",
          "2019-01-20T00:00:00",
          "2019-01-21T00:00:00",
          "2019-01-22T00:00:00",
          "2019-01-23T00:00:00",
          "2019-01-24T00:00:00",
          "2019-01-25T00:00:00",
          "2019-01-26T00:00:00",
          "2019-01-27T00:00:00",
          "2019-01-28T00:00:00",
          "2019-01-29T00:00:00",
          "2019-01-30T00:00:00",
          "2019-01-31T00:00:00",
          "2019-02-01T00:00:00",
          "2019-02-02T00:00:00",
          "2019-02-03T00:00:00",
          "2019-02-04T00:00:00",
          "2019-02-05T00:00:00",
          "2019-02-06T00:00:00",
          "2019-02-07T00:00:00",
          "2019-02-08T00:00:00",
          "2019-02-09T00:00:00",
          "2019-02-10T00:00:00",
          "2019-02-11T00:00:00",
          "2019-02-12T00:00:00",
          "2019-02-13T00:00:00",
          "2019-02-14T00:00:00",
          "2019-02-15T00:00:00",
          "2019-02-16T00:00:00",
          "2019-02-17T00:00:00",
          "2019-02-18T00:00:00",
          "2019-02-19T00:00:00",
          "2019-02-20T00:00:00",
          "2019-02-21T00:00:00",
          "2019-02-22T00:00:00",
          "2019-02-23T00:00:00",
          "2019-02-24T00:00:00",
          "2019-02-25T00:00:00",
          "2019-02-26T00:00:00",
          "2019-02-27T00:00:00",
          "2019-02-28T00:00:00",
          "2019-03-01T00:00:00",
          "2019-03-02T00:00:00",
          "2019-03-03T00:00:00",
          "2019-03-04T00:00:00",
          "2019-03-05T00:00:00",
          "2019-03-06T00:00:00",
          "2019-03-07T00:00:00",
          "2019-03-08T00:00:00",
          "2019-03-09T00:00:00",
          "2019-03-10T00:00:00",
          "2019-03-11T00:00:00",
          "2019-03-12T00:00:00",
          "2019-03-13T00:00:00",
          "2019-03-14T00:00:00",
          "2019-03-15T00:00:00",
          "2019-03-16T00:00:00",
          "2019-03-17T00:00:00",
          "2019-03-18T00:00:00",
          "2019-03-19T00:00:00",
          "2019-03-20T00:00:00",
          "2019-03-21T00:00:00",
          "2019-03-22T00:00:00",
          "2019-03-23T00:00:00",
          "2019-03-24T00:00:00",
          "2019-03-25T00:00:00",
          "2019-03-26T00:00:00",
          "2019-03-27T00:00:00",
          "2019-03-28T00:00:00",
          "2019-03-29T00:00:00",
          "2019-03-30T00:00:00"
         ],
         "xaxis": "x",
         "y": [
          73.176,
          55.3715,
          48.414,
          24.3135,
          23.179,
          48.6495,
          63.9005,
          105.188,
          8.025,
          64.219,
          0,
          110.102,
          35.005,
          56.737500000000004,
          136.303,
          42.169000000000004,
          47.293499999999995,
          13.16,
          30.166,
          10.966000000000001,
          4.9065,
          23.958,
          0,
          124.235,
          76.25,
          152.537,
          43.736999999999995,
          149.06550000000001,
          45.074,
          21.698,
          132.4895,
          0,
          76.63250000000001,
          49.4045,
          50.2165,
          47.126,
          51.460499999999996,
          129.6815,
          83.59299999999999,
          49.7675,
          32.778999999999996,
          87.9965,
          70.112,
          15.533,
          36.176,
          153.0865,
          58.988,
          40.531,
          1.476,
          22.428,
          81.562,
          20.7505,
          55.8395,
          58.412000000000006,
          36.334,
          118.95949999999999,
          96.9225,
          89.923,
          23.560000000000002,
          44.4435,
          170.10750000000002,
          86.369,
          8.658,
          168.5715,
          96.2105,
          14.186,
          4.4075,
          143.166,
          16.250500000000002,
          23.016000000000002,
          66.3045,
          20.185,
          95.9045,
          83.3225,
          40.061499999999995,
          21.429000000000002,
          21.573,
          28.5525,
          80.1815,
          9.898,
          50.052,
          18.308,
          74.5135,
          19.909,
          14.343,
          42.8045,
          4.5555,
          98.092,
          82.117
         ],
         "yaxis": "y"
        },
        {
         "hovertemplate": "Branch=C<br>Date=%{x}<br>Gross Income=%{y}<extra></extra>",
         "legendgroup": "C",
         "line": {
          "color": "#00cc96",
          "dash": "solid"
         },
         "marker": {
          "symbol": "circle"
         },
         "mode": "lines",
         "name": "C",
         "orientation": "v",
         "showlegend": true,
         "type": "scatter",
         "x": [
          "2019-01-01T00:00:00",
          "2019-01-02T00:00:00",
          "2019-01-03T00:00:00",
          "2019-01-04T00:00:00",
          "2019-01-05T00:00:00",
          "2019-01-06T00:00:00",
          "2019-01-07T00:00:00",
          "2019-01-08T00:00:00",
          "2019-01-09T00:00:00",
          "2019-01-10T00:00:00",
          "2019-01-11T00:00:00",
          "2019-01-12T00:00:00",
          "2019-01-13T00:00:00",
          "2019-01-14T00:00:00",
          "2019-01-15T00:00:00",
          "2019-01-16T00:00:00",
          "2019-01-17T00:00:00",
          "2019-01-18T00:00:00",
          "2019-01-19T00:00:00",
          "2019-01-20T00:00:00",
          "2019-01-21T00:00:00",
          "2019-01-22T00:00:00",
          "2019-01-23T00:00:00",
          "2019-01-24T00:00:00",
          "2019-01-25T00:00:00",
          "2019-01-26T00:00:00",
          "2019-01-27T00:00:00",
          "2019-01-28T00:00:00",
          "2019-01-29T00:00:00",
          "2019-01-30T00:00:00",
          "2019-01-31T00:00:00",
          "2019-02-01T00:00:00",
          "2019-02-02T00:00:00",
          "2019-02-03T00:00:00",
          "2019-02-04T00:00:00",
          "2019-02-05T00:00:00",
          "2019-02-06T00:00:00",
          "2019-02-07T00:00:00",
          "2019-02-08T00:00:00",
          "2019-02-09T00:00:00",
          "2019-02-10T00:00:00",
          "2019-02-11T00:00:00",
          "2019-02-12T00:00:00",
          "2019-02-13T00:00:00",
          "2019-02-14T00:00:00",
          "2019-02-15T00:00:00",
          "2019-02-16T00:00:00",
          "2019-02-17T00:00:00",
          "2019-02-18T00:00:00",
          "2019-02-19T00:00:00",
          "2019-02-20T00:00:00",
          "2019-02-21T00:00:00",
          "2019-02-22T00:00:00",
          "2019-02-23T00:00:00",
          "2019-02-24T00:00:00",
          "2019-02-25T00:00:00",
          "2019-02-26T00:00:00",
          "2019-02-27T00:00:00",
          "2019-02-28T00:00:00",
          "2019-03-01T00:00:00",
          "2019-03-02T00:00:00",
          "2019-03-03T00:00:00",
          "2019-03-04T00:00:00",
          "2019-03-05T00:00:00",
          "2019-03-06T00:00:00",
          "2019-03-07T00:00:00",
          "2019-03-08T00:00:00",
          "2019-03-09T00:00:00",
          "2019-03-10T00:00:00",
          "2019-03-11T00:00:00",
          "2019-03-12T00:00:00",
          "2019-03-13T00:00:00",
          "2019-03-14T00:00:00",
          "2019-03-15T00:00:00",
          "2019-03-16T00:00:00",
          "2019-03-17T00:00:00",
          "2019-03-18T00:00:00",
          "2019-03-19T00:00:00",
          "2019-03-20T00:00:00",
          "2019-03-21T00:00:00",
          "2019-03-22T00:00:00",
          "2019-03-23T00:00:00",
          "2019-03-24T00:00:00",
          "2019-03-25T00:00:00",
          "2019-03-26T00:00:00",
          "2019-03-27T00:00:00",
          "2019-03-28T00:00:00",
          "2019-03-29T00:00:00",
          "2019-03-30T00:00:00"
         ],
         "xaxis": "x",
         "y": [
          39.864999999999995,
          22.65,
          5.906000000000001,
          29.9925,
          48.8295,
          61.076,
          18.399,
          114.349,
          126.2135,
          70.517,
          21.5855,
          68.742,
          28.7475,
          79.95400000000001,
          60.7255,
          120.975,
          30.827,
          64.0135,
          48.893,
          80.962,
          33.206,
          19.018,
          172.994,
          15.9015,
          104.0615,
          39.963499999999996,
          97.29249999999999,
          75.3085,
          49.7665,
          86.057,
          88.6695,
          72.981,
          71.986,
          81.57499999999999,
          6.9315,
          70.1455,
          66.741,
          116.10900000000001,
          77.85,
          77.557,
          68.095,
          97.33250000000001,
          46.1675,
          18.6635,
          29.599,
          113.941,
          51.55200000000001,
          65.5935,
          25.3945,
          80.6575,
          4.3135,
          31.422,
          36.215,
          38.303,
          68.409,
          23.9405,
          10.3185,
          72.827,
          43.712,
          50.3255,
          111.7425,
          105.948,
          40.992,
          108.1995,
          1.85,
          36.745999999999995,
          68.598,
          80.351,
          63.9415,
          36.5115,
          64.843,
          40.553,
          164.2395,
          26.104,
          60.498999999999995,
          18.726,
          21.4375,
          154.698,
          66.7585,
          17.187,
          0,
          93.438,
          70.86,
          60.8455,
          22.57,
          44.919,
          22.8955,
          46.938,
          68.666
         ],
         "yaxis": "y"
        }
       ],
       "layout": {
        "autosize": true,
        "legend": {
         "title": {
          "text": "Branch"
         },
         "tracegroupgap": 0
        },
        "template": {
         "data": {
          "bar": [
           {
            "error_x": {
             "color": "#2a3f5f"
            },
            "error_y": {
             "color": "#2a3f5f"
            },
            "marker": {
             "line": {
              "color": "#E5ECF6",
              "width": 0.5
             },
             "pattern": {
              "fillmode": "overlay",
              "size": 10,
              "solidity": 0.2
             }
            },
            "type": "bar"
           }
          ],
          "barpolar": [
           {
            "marker": {
             "line": {
              "color": "#E5ECF6",
              "width": 0.5
             },
             "pattern": {
              "fillmode": "overlay",
              "size": 10,
              "solidity": 0.2
             }
            },
            "type": "barpolar"
           }
          ],
          "carpet": [
           {
            "aaxis": {
             "endlinecolor": "#2a3f5f",
             "gridcolor": "white",
             "linecolor": "white",
             "minorgridcolor": "white",
             "startlinecolor": "#2a3f5f"
            },
            "baxis": {
             "endlinecolor": "#2a3f5f",
             "gridcolor": "white",
             "linecolor": "white",
             "minorgridcolor": "white",
             "startlinecolor": "#2a3f5f"
            },
            "type": "carpet"
           }
          ],
          "choropleth": [
           {
            "colorbar": {
             "outlinewidth": 0,
             "ticks": ""
            },
            "type": "choropleth"
           }
          ],
          "contour": [
           {
            "colorbar": {
             "outlinewidth": 0,
             "ticks": ""
            },
            "colorscale": [
             [
              0,
              "#0d0887"
             ],
             [
              0.1111111111111111,
              "#46039f"
             ],
             [
              0.2222222222222222,
              "#7201a8"
             ],
             [
              0.3333333333333333,
              "#9c179e"
             ],
             [
              0.4444444444444444,
              "#bd3786"
             ],
             [
              0.5555555555555556,
              "#d8576b"
             ],
             [
              0.6666666666666666,
              "#ed7953"
             ],
             [
              0.7777777777777778,
              "#fb9f3a"
             ],
             [
              0.8888888888888888,
              "#fdca26"
             ],
             [
              1,
              "#f0f921"
             ]
            ],
            "type": "contour"
           }
          ],
          "contourcarpet": [
           {
            "colorbar": {
             "outlinewidth": 0,
             "ticks": ""
            },
            "type": "contourcarpet"
           }
          ],
          "heatmap": [
           {
            "colorbar": {
             "outlinewidth": 0,
             "ticks": ""
            },
            "colorscale": [
             [
              0,
              "#0d0887"
             ],
             [
              0.1111111111111111,
              "#46039f"
             ],
             [
              0.2222222222222222,
              "#7201a8"
             ],
             [
              0.3333333333333333,
              "#9c179e"
             ],
             [
              0.4444444444444444,
              "#bd3786"
             ],
             [
              0.5555555555555556,
              "#d8576b"
             ],
             [
              0.6666666666666666,
              "#ed7953"
             ],
             [
              0.7777777777777778,
              "#fb9f3a"
             ],
             [
              0.8888888888888888,
              "#fdca26"
             ],
             [
              1,
              "#f0f921"
             ]
            ],
            "type": "heatmap"
           }
          ],
          "heatmapgl": [
           {
            "colorbar": {
             "outlinewidth": 0,
             "ticks": ""
            },
            "colorscale": [
             [
              0,
              "#0d0887"
             ],
             [
              0.1111111111111111,
              "#46039f"
             ],
             [
              0.2222222222222222,
              "#7201a8"
             ],
             [
              0.3333333333333333,
              "#9c179e"
             ],
             [
              0.4444444444444444,
              "#bd3786"
             ],
             [
              0.5555555555555556,
              "#d8576b"
             ],
             [
              0.6666666666666666,
              "#ed7953"
             ],
             [
              0.7777777777777778,
              "#fb9f3a"
             ],
             [
              0.8888888888888888,
              "#fdca26"
             ],
             [
              1,
              "#f0f921"
             ]
            ],
            "type": "heatmapgl"
           }
          ],
          "histogram": [
           {
            "marker": {
             "pattern": {
              "fillmode": "overlay",
              "size": 10,
              "solidity": 0.2
             }
            },
            "type": "histogram"
           }
          ],
          "histogram2d": [
           {
            "colorbar": {
             "outlinewidth": 0,
             "ticks": ""
            },
            "colorscale": [
             [
              0,
              "#0d0887"
             ],
             [
              0.1111111111111111,
              "#46039f"
             ],
             [
              0.2222222222222222,
              "#7201a8"
             ],
             [
              0.3333333333333333,
              "#9c179e"
             ],
             [
              0.4444444444444444,
              "#bd3786"
             ],
             [
              0.5555555555555556,
              "#d8576b"
             ],
             [
              0.6666666666666666,
              "#ed7953"
             ],
             [
              0.7777777777777778,
              "#fb9f3a"
             ],
             [
              0.8888888888888888,
              "#fdca26"
             ],
             [
              1,
              "#f0f921"
             ]
            ],
            "type": "histogram2d"
           }
          ],
          "histogram2dcontour": [
           {
            "colorbar": {
             "outlinewidth": 0,
             "ticks": ""
            },
            "colorscale": [
             [
              0,
              "#0d0887"
             ],
             [
              0.1111111111111111,
              "#46039f"
             ],
             [
              0.2222222222222222,
              "#7201a8"
             ],
             [
              0.3333333333333333,
              "#9c179e"
             ],
             [
              0.4444444444444444,
              "#bd3786"
             ],
             [
              0.5555555555555556,
              "#d8576b"
             ],
             [
              0.6666666666666666,
              "#ed7953"
             ],
             [
              0.7777777777777778,
              "#fb9f3a"
             ],
             [
              0.8888888888888888,
              "#fdca26"
             ],
             [
              1,
              "#f0f921"
             ]
            ],
            "type": "histogram2dcontour"
           }
          ],
          "mesh3d": [
           {
            "colorbar": {
             "outlinewidth": 0,
             "ticks": ""
            },
            "type": "mesh3d"
           }
          ],
          "parcoords": [
           {
            "line": {
             "colorbar": {
              "outlinewidth": 0,
              "ticks": ""
             }
            },
            "type": "parcoords"
           }
          ],
          "pie": [
           {
            "automargin": true,
            "type": "pie"
           }
          ],
          "scatter": [
           {
            "fillpattern": {
             "fillmode": "overlay",
             "size": 10,
             "solidity": 0.2
            },
            "type": "scatter"
           }
          ],
          "scatter3d": [
           {
            "line": {
             "colorbar": {
              "outlinewidth": 0,
              "ticks": ""
             }
            },
            "marker": {
             "colorbar": {
              "outlinewidth": 0,
              "ticks": ""
             }
            },
            "type": "scatter3d"
           }
          ],
          "scattercarpet": [
           {
            "marker": {
             "colorbar": {
              "outlinewidth": 0,
              "ticks": ""
             }
            },
            "type": "scattercarpet"
           }
          ],
          "scattergeo": [
           {
            "marker": {
             "colorbar": {
              "outlinewidth": 0,
              "ticks": ""
             }
            },
            "type": "scattergeo"
           }
          ],
          "scattergl": [
           {
            "marker": {
             "colorbar": {
              "outlinewidth": 0,
              "ticks": ""
             }
            },
            "type": "scattergl"
           }
          ],
          "scattermapbox": [
           {
            "marker": {
             "colorbar": {
              "outlinewidth": 0,
              "ticks": ""
             }
            },
            "type": "scattermapbox"
           }
          ],
          "scatterpolar": [
           {
            "marker": {
             "colorbar": {
              "outlinewidth": 0,
              "ticks": ""
             }
            },
            "type": "scatterpolar"
           }
          ],
          "scatterpolargl": [
           {
            "marker": {
             "colorbar": {
              "outlinewidth": 0,
              "ticks": ""
             }
            },
            "type": "scatterpolargl"
           }
          ],
          "scatterternary": [
           {
            "marker": {
             "colorbar": {
              "outlinewidth": 0,
              "ticks": ""
             }
            },
            "type": "scatterternary"
           }
          ],
          "surface": [
           {
            "colorbar": {
             "outlinewidth": 0,
             "ticks": ""
            },
            "colorscale": [
             [
              0,
              "#0d0887"
             ],
             [
              0.1111111111111111,
              "#46039f"
             ],
             [
              0.2222222222222222,
              "#7201a8"
             ],
             [
              0.3333333333333333,
              "#9c179e"
             ],
             [
              0.4444444444444444,
              "#bd3786"
             ],
             [
              0.5555555555555556,
              "#d8576b"
             ],
             [
              0.6666666666666666,
              "#ed7953"
             ],
             [
              0.7777777777777778,
              "#fb9f3a"
             ],
             [
              0.8888888888888888,
              "#fdca26"
             ],
             [
              1,
              "#f0f921"
             ]
            ],
            "type": "surface"
           }
          ],
          "table": [
           {
            "cells": {
             "fill": {
              "color": "#EBF0F8"
             },
             "line": {
              "color": "white"
             }
            },
            "header": {
             "fill": {
              "color": "#C8D4E3"
             },
             "line": {
              "color": "white"
             }
            },
            "type": "table"
           }
          ]
         },
         "layout": {
          "annotationdefaults": {
           "arrowcolor": "#2a3f5f",
           "arrowhead": 0,
           "arrowwidth": 1
          },
          "autotypenumbers": "strict",
          "coloraxis": {
           "colorbar": {
            "outlinewidth": 0,
            "ticks": ""
           }
          },
          "colorscale": {
           "diverging": [
            [
             0,
             "#8e0152"
            ],
            [
             0.1,
             "#c51b7d"
            ],
            [
             0.2,
             "#de77ae"
            ],
            [
             0.3,
             "#f1b6da"
            ],
            [
             0.4,
             "#fde0ef"
            ],
            [
             0.5,
             "#f7f7f7"
            ],
            [
             0.6,
             "#e6f5d0"
            ],
            [
             0.7,
             "#b8e186"
            ],
            [
             0.8,
             "#7fbc41"
            ],
            [
             0.9,
             "#4d9221"
            ],
            [
             1,
             "#276419"
            ]
           ],
           "sequential": [
            [
             0,
             "#0d0887"
            ],
            [
             0.1111111111111111,
             "#46039f"
            ],
            [
             0.2222222222222222,
             "#7201a8"
            ],
            [
             0.3333333333333333,
             "#9c179e"
            ],
            [
             0.4444444444444444,
             "#bd3786"
            ],
            [
             0.5555555555555556,
             "#d8576b"
            ],
            [
             0.6666666666666666,
             "#ed7953"
            ],
            [
             0.7777777777777778,
             "#fb9f3a"
            ],
            [
             0.8888888888888888,
             "#fdca26"
            ],
            [
             1,
             "#f0f921"
            ]
           ],
           "sequentialminus": [
            [
             0,
             "#0d0887"
            ],
            [
             0.1111111111111111,
             "#46039f"
            ],
            [
             0.2222222222222222,
             "#7201a8"
            ],
            [
             0.3333333333333333,
             "#9c179e"
            ],
            [
             0.4444444444444444,
             "#bd3786"
            ],
            [
             0.5555555555555556,
             "#d8576b"
            ],
            [
             0.6666666666666666,
             "#ed7953"
            ],
            [
             0.7777777777777778,
             "#fb9f3a"
            ],
            [
             0.8888888888888888,
             "#fdca26"
            ],
            [
             1,
             "#f0f921"
            ]
           ]
          },
          "colorway": [
           "#636efa",
           "#EF553B",
           "#00cc96",
           "#ab63fa",
           "#FFA15A",
           "#19d3f3",
           "#FF6692",
           "#B6E880",
           "#FF97FF",
           "#FECB52"
          ],
          "font": {
           "color": "#2a3f5f"
          },
          "geo": {
           "bgcolor": "white",
           "lakecolor": "white",
           "landcolor": "#E5ECF6",
           "showlakes": true,
           "showland": true,
           "subunitcolor": "white"
          },
          "hoverlabel": {
           "align": "left"
          },
          "hovermode": "closest",
          "mapbox": {
           "style": "light"
          },
          "paper_bgcolor": "white",
          "plot_bgcolor": "#E5ECF6",
          "polar": {
           "angularaxis": {
            "gridcolor": "white",
            "linecolor": "white",
            "ticks": ""
           },
           "bgcolor": "#E5ECF6",
           "radialaxis": {
            "gridcolor": "white",
            "linecolor": "white",
            "ticks": ""
           }
          },
          "scene": {
           "xaxis": {
            "backgroundcolor": "#E5ECF6",
            "gridcolor": "white",
            "gridwidth": 2,
            "linecolor": "white",
            "showbackground": true,
            "ticks": "",
            "zerolinecolor": "white"
           },
           "yaxis": {
            "backgroundcolor": "#E5ECF6",
            "gridcolor": "white",
            "gridwidth": 2,
            "linecolor": "white",
            "showbackground": true,
            "ticks": "",
            "zerolinecolor": "white"
           },
           "zaxis": {
            "backgroundcolor": "#E5ECF6",
            "gridcolor": "white",
            "gridwidth": 2,
            "linecolor": "white",
            "showbackground": true,
            "ticks": "",
            "zerolinecolor": "white"
           }
          },
          "shapedefaults": {
           "line": {
            "color": "#2a3f5f"
           }
          },
          "ternary": {
           "aaxis": {
            "gridcolor": "white",
            "linecolor": "white",
            "ticks": ""
           },
           "baxis": {
            "gridcolor": "white",
            "linecolor": "white",
            "ticks": ""
           },
           "bgcolor": "#E5ECF6",
           "caxis": {
            "gridcolor": "white",
            "linecolor": "white",
            "ticks": ""
           }
          },
          "title": {
           "x": 0.05
          },
          "xaxis": {
           "automargin": true,
           "gridcolor": "white",
           "linecolor": "white",
           "ticks": "",
           "title": {
            "standoff": 15
           },
           "zerolinecolor": "white",
           "zerolinewidth": 2
          },
          "yaxis": {
           "automargin": true,
           "gridcolor": "white",
           "linecolor": "white",
           "ticks": "",
           "title": {
            "standoff": 15
           },
           "zerolinecolor": "white",
           "zerolinewidth": 2
          }
         }
        },
        "title": {
         "text": "Daily Gross Income by Branch through the first quarter of 2019"
        },
        "xaxis": {
         "anchor": "y",
         "autorange": true,
         "domain": [
          0,
          1
         ],
         "range": [
          "2019-01-01",
          "2019-03-30"
         ],
         "title": {
          "text": "Date"
         },
         "type": "date"
        },
        "yaxis": {
         "anchor": "x",
         "autorange": true,
         "domain": [
          0,
          1
         ],
         "range": [
          -9.610777777777779,
          182.60477777777777
         ],
         "title": {
          "text": "Gross Income"
         },
         "type": "linear"
        }
       }
      },
      "image/png": "[encoded data removed]",
      "text/html": [
       "<div>                            <div id=\"f443d9e0-b872-44a8-add1-83d5a4ebb04c\" class=\"plotly-graph-div\" style=\"height:525px; width:100%;\"></div>            <script type=\"text/javascript\">                require([\"plotly\"], function(Plotly) {                    window.PLOTLYENV=window.PLOTLYENV || {};                                    if (document.getElementById(\"f443d9e0-b872-44a8-add1-83d5a4ebb04c\")) {                    Plotly.newPlot(                        \"f443d9e0-b872-44a8-add1-83d5a4ebb04c\",                        [{\"hovertemplate\":\"Branch=A<br>Date=%{x}<br>Gross Income=%{y}<extra></extra>\",\"legendgroup\":\"A\",\"line\":{\"color\":\"#636efa\",\"dash\":\"solid\"},\"marker\":{\"symbol\":\"circle\"},\"mode\":\"lines\",\"name\":\"A\",\"orientation\":\"v\",\"showlegend\":true,\"x\":[\"2019-01-01T00:00:00\",\"2019-01-02T00:00:00\",\"2019-01-03T00:00:00\",\"2019-01-04T00:00:00\",\"2019-01-05T00:00:00\",\"2019-01-06T00:00:00\",\"2019-01-07T00:00:00\",\"2019-01-08T00:00:00\",\"2019-01-09T00:00:00\",\"2019-01-10T00:00:00\",\"2019-01-11T00:00:00\",\"2019-01-12T00:00:00\",\"2019-01-13T00:00:00\",\"2019-01-14T00:00:00\",\"2019-01-15T00:00:00\",\"2019-01-16T00:00:00\",\"2019-01-17T00:00:00\",\"2019-01-18T00:00:00\",\"2019-01-19T00:00:00\",\"2019-01-20T00:00:00\",\"2019-01-21T00:00:00\",\"2019-01-22T00:00:00\",\"2019-01-23T00:00:00\",\"2019-01-24T00:00:00\",\"2019-01-25T00:00:00\",\"2019-01-26T00:00:00\",\"2019-01-27T00:00:00\",\"2019-01-28T00:00:00\",\"2019-01-29T00:00:00\",\"2019-01-30T00:00:00\",\"2019-01-31T00:00:00\",\"2019-02-01T00:00:00\",\"2019-02-02T00:00:00\",\"2019-02-03T00:00:00\",\"2019-02-04T00:00:00\",\"2019-02-05T00:00:00\",\"2019-02-06T00:00:00\",\"2019-02-07T00:00:00\",\"2019-02-08T00:00:00\",\"2019-02-09T00:00:00\",\"2019-02-10T00:00:00\",\"2019-02-11T00:00:00\",\"2019-02-12T00:00:00\",\"2019-02-13T00:00:00\",\"2019-02-14T00:00:00\",\"2019-02-15T00:00:00\",\"2019-02-16T00:00:00\",\"2019-02-17T00:00:00\",\"2019-02-18T00:00:00\",\"2019-02-19T00:00:00\",\"2019-02-20T00:00:00\",\"2019-02-21T00:00:00\",\"2019-02-22T00:00:00\",\"2019-02-23T00:00:00\",\"2019-02-24T00:00:00\",\"2019-02-25T00:00:00\",\"2019-02-26T00:00:00\",\"2019-02-27T00:00:00\",\"2019-02-28T00:00:00\",\"2019-03-01T00:00:00\",\"2019-03-02T00:00:00\",\"2019-03-03T00:00:00\",\"2019-03-04T00:00:00\",\"2019-03-05T00:00:00\",\"2019-03-06T00:00:00\",\"2019-03-07T00:00:00\",\"2019-03-08T00:00:00\",\"2019-03-09T00:00:00\",\"2019-03-10T00:00:00\",\"2019-03-11T00:00:00\",\"2019-03-12T00:00:00\",\"2019-03-13T00:00:00\",\"2019-03-14T00:00:00\",\"2019-03-15T00:00:00\",\"2019-03-16T00:00:00\",\"2019-03-17T00:00:00\",\"2019-03-18T00:00:00\",\"2019-03-19T00:00:00\",\"2019-03-20T00:00:00\",\"2019-03-21T00:00:00\",\"2019-03-22T00:00:00\",\"2019-03-23T00:00:00\",\"2019-03-24T00:00:00\",\"2019-03-25T00:00:00\",\"2019-03-26T00:00:00\",\"2019-03-27T00:00:00\",\"2019-03-28T00:00:00\",\"2019-03-29T00:00:00\",\"2019-03-30T00:00:00\"],\"xaxis\":\"x\",\"y\":[112.92,14.6215,44.6385,23.0125,96.405,62.37949999999999,52.6645,32.5455,9.635,34.833,79.12700000000001,68.0495,52.9715,52.195,86.03150000000001,41.098,71.53450000000001,55.230000000000004,154.9755,82.14099999999999,75.797,38.203500000000005,112.4435,117.104,43.5155,19.762,79.7275,13.7075,72.615,14.067,28.0075,43.4255,48.569500000000005,129.398,59.0185,27.067999999999998,20.152,98.41,80.68350000000001,28.48,48.6985,30.964000000000002,26.5295,10.291,51.0865,58.248000000000005,8.687,146.236,44.369,98.2535,43.0015,14.196,24.246,14.694,24.898,86.016,7.4334999999999996,116.2715,32.586,30.677,30.5455,38.7865,135.7995,19.9375,49.206,17.5565,75.8225,132.39,70.438,81.4845,43.974,37.528999999999996,83.41,30.688499999999998,49.6525,53.954,18.552999999999997,90.1015,112.9745,62.3205,101.336,83.256,20.22,27.482,56.54,50.506,78.711,46.553,62.8865],\"yaxis\":\"y\",\"type\":\"scatter\"},{\"hovertemplate\":\"Branch=B<br>Date=%{x}<br>Gross Income=%{y}<extra></extra>\",\"legendgroup\":\"B\",\"line\":{\"color\":\"#EF553B\",\"dash\":\"solid\"},\"marker\":{\"symbol\":\"circle\"},\"mode\":\"lines\",\"name\":\"B\",\"orientation\":\"v\",\"showlegend\":true,\"x\":[\"2019-01-01T00:00:00\",\"2019-01-02T00:00:00\",\"2019-01-03T00:00:00\",\"2019-01-04T00:00:00\",\"2019-01-05T00:00:00\",\"2019-01-06T00:00:00\",\"2019-01-07T00:00:00\",\"2019-01-08T00:00:00\",\"2019-01-09T00:00:00\",\"2019-01-10T00:00:00\",\"2019-01-11T00:00:00\",\"2019-01-12T00:00:00\",\"2019-01-13T00:00:00\",\"2019-01-14T00:00:00\",\"2019-01-15T00:00:00\",\"2019-01-16T00:00:00\",\"2019-01-17T00:00:00\",\"2019-01-18T00:00:00\",\"2019-01-19T00:00:00\",\"2019-01-20T00:00:00\",\"2019-01-21T00:00:00\",\"2019-01-22T00:00:00\",\"2019-01-23T00:00:00\",\"2019-01-24T00:00:00\",\"2019-01-25T00:00:00\",\"2019-01-26T00:00:00\",\"2019-01-27T00:00:00\",\"2019-01-28T00:00:00\",\"2019-01-29T00:00:00\",\"2019-01-30T00:00:00\",\"2019-01-31T00:00:00\",\"2019-02-01T00:00:00\",\"2019-02-02T00:00:00\",\"2019-02-03T00:00:00\",\"2019-02-04T00:00:00\",\"2019-02-05T00:00:00\",\"2019-02-06T00:00:00\",\"2019-02-07T00:00:00\",\"2019-02-08T00:00:00\",\"2019-02-09T00:00:00\",\"2019-02-10T00:00:00\",\"2019-02-11T00:00:00\",\"2019-02-12T00:00:00\",\"2019-02-13T00:00:00\",\"2019-02-14T00:00:00\",\"2019-02-15T00:00:00\",\"2019-02-16T00:00:00\",\"2019-02-17T00:00:00\",\"2019-02-18T00:00:00\",\"2019-02-19T00:00:00\",\"2019-02-20T00:00:00\",\"2019-02-21T00:00:00\",\"2019-02-22T00:00:00\",\"2019-02-23T00:00:00\",\"2019-02-24T00:00:00\",\"2019-02-25T00:00:00\",\"2019-02-26T00:00:00\",\"2019-02-27T00:00:00\",\"2019-02-28T00:00:00\",\"2019-03-01T00:00:00\",\"2019-03-02T00:00:00\",\"2019-03-03T00:00:00\",\"2019-03-04T00:00:00\",\"2019-03-05T00:00:00\",\"2019-03-06T00:00:00\",\"2019-03-07T00:00:00\",\"2019-03-08T00:00:00\",\"2019-03-09T00:00:00\",\"2019-03-10T00:00:00\",\"2019-03-11T00:00:00\",\"2019-03-12T00:00:00\",\"2019-03-13T00:00:00\",\"2019-03-14T00:00:00\",\"2019-03-15T00:00:00\",\"2019-03-16T00:00:00\",\"2019-03-17T00:00:00\",\"2019-03-18T00:00:00\",\"2019-03-19T00:00:00\",\"2019-03-20T00:00:00\",\"2019-03-21T00:00:00\",\"2019-03-22T00:00:00\",\"2019-03-23T00:00:00\",\"2019-03-24T00:00:00\",\"2019-03-25T00:00:00\",\"2019-03-26T00:00:00\",\"2019-03-27T00:00:00\",\"2019-03-28T00:00:00\",\"2019-03-29T00:00:00\",\"2019-03-30T00:00:00\"],\"xaxis\":\"x\",\"y\":[73.176,55.3715,48.414,24.3135,23.179,48.6495,63.9005,105.188,8.025,64.219,0.0,110.102,35.005,56.737500000000004,136.303,42.169000000000004,47.293499999999995,13.16,30.166,10.966000000000001,4.9065,23.958,0.0,124.235,76.25,152.537,43.736999999999995,149.06550000000001,45.074,21.698,132.4895,0.0,76.63250000000001,49.4045,50.2165,47.126,51.460499999999996,129.6815,83.59299999999999,49.7675,32.778999999999996,87.9965,70.112,15.533,36.176,153.0865,58.988,40.531,1.476,22.428,81.562,20.7505,55.8395,58.412000000000006,36.334,118.95949999999999,96.9225,89.923,23.560000000000002,44.4435,170.10750000000002,86.369,8.658,168.5715,96.2105,14.186,4.4075,143.166,16.250500000000002,23.016000000000002,66.3045,20.185,95.9045,83.3225,40.061499999999995,21.429000000000002,21.573,28.5525,80.1815,9.898,50.052,18.308,74.5135,19.909,14.343,42.8045,4.5555,98.092,82.117],\"yaxis\":\"y\",\"type\":\"scatter\"},{\"hovertemplate\":\"Branch=C<br>Date=%{x}<br>Gross Income=%{y}<extra></extra>\",\"legendgroup\":\"C\",\"line\":{\"color\":\"#00cc96\",\"dash\":\"solid\"},\"marker\":{\"symbol\":\"circle\"},\"mode\":\"lines\",\"name\":\"C\",\"orientation\":\"v\",\"showlegend\":true,\"x\":[\"2019-01-01T00:00:00\",\"2019-01-02T00:00:00\",\"2019-01-03T00:00:00\",\"2019-01-04T00:00:00\",\"2019-01-05T00:00:00\",\"2019-01-06T00:00:00\",\"2019-01-07T00:00:00\",\"2019-01-08T00:00:00\",\"2019-01-09T00:00:00\",\"2019-01-10T00:00:00\",\"2019-01-11T00:00:00\",\"2019-01-12T00:00:00\",\"2019-01-13T00:00:00\",\"2019-01-14T00:00:00\",\"2019-01-15T00:00:00\",\"2019-01-16T00:00:00\",\"2019-01-17T00:00:00\",\"2019-01-18T00:00:00\",\"2019-01-19T00:00:00\",\"2019-01-20T00:00:00\",\"2019-01-21T00:00:00\",\"2019-01-22T00:00:00\",\"2019-01-23T00:00:00\",\"2019-01-24T00:00:00\",\"2019-01-25T00:00:00\",\"2019-01-26T00:00:00\",\"2019-01-27T00:00:00\",\"2019-01-28T00:00:00\",\"2019-01-29T00:00:00\",\"2019-01-30T00:00:00\",\"2019-01-31T00:00:00\",\"2019-02-01T00:00:00\",\"2019-02-02T00:00:00\",\"2019-02-03T00:00:00\",\"2019-02-04T00:00:00\",\"2019-02-05T00:00:00\",\"2019-02-06T00:00:00\",\"2019-02-07T00:00:00\",\"2019-02-08T00:00:00\",\"2019-02-09T00:00:00\",\"2019-02-10T00:00:00\",\"2019-02-11T00:00:00\",\"2019-02-12T00:00:00\",\"2019-02-13T00:00:00\",\"2019-02-14T00:00:00\",\"2019-02-15T00:00:00\",\"2019-02-16T00:00:00\",\"2019-02-17T00:00:00\",\"2019-02-18T00:00:00\",\"2019-02-19T00:00:00\",\"2019-02-20T00:00:00\",\"2019-02-21T00:00:00\",\"2019-02-22T00:00:00\",\"2019-02-23T00:00:00\",\"2019-02-24T00:00:00\",\"2019-02-25T00:00:00\",\"2019-02-26T00:00:00\",\"2019-02-27T00:00:00\",\"2019-02-28T00:00:00\",\"2019-03-01T00:00:00\",\"2019-03-02T00:00:00\",\"2019-03-03T00:00:00\",\"2019-03-04T00:00:00\",\"2019-03-05T00:00:00\",\"2019-03-06T00:00:00\",\"2019-03-07T00:00:00\",\"2019-03-08T00:00:00\",\"2019-03-09T00:00:00\",\"2019-03-10T00:00:00\",\"2019-03-11T00:00:00\",\"2019-03-12T00:00:00\",\"2019-03-13T00:00:00\",\"2019-03-14T00:00:00\",\"2019-03-15T00:00:00\",\"2019-03-16T00:00:00\",\"2019-03-17T00:00:00\",\"2019-03-18T00:00:00\",\"2019-03-19T00:00:00\",\"2019-03-20T00:00:00\",\"2019-03-21T00:00:00\",\"2019-03-22T00:00:00\",\"2019-03-23T00:00:00\",\"2019-03-24T00:00:00\",\"2019-03-25T00:00:00\",\"2019-03-26T00:00:00\",\"2019-03-27T00:00:00\",\"2019-03-28T00:00:00\",\"2019-03-29T00:00:00\",\"2019-03-30T00:00:00\"],\"xaxis\":\"x\",\"y\":[39.864999999999995,22.65,5.906000000000001,29.9925,48.8295,61.076,18.399,114.349,126.2135,70.517,21.5855,68.742,28.7475,79.95400000000001,60.7255,120.975,30.827,64.0135,48.893,80.962,33.206,19.018,172.994,15.9015,104.0615,39.963499999999996,97.29249999999999,75.3085,49.7665,86.057,88.6695,72.981,71.986,81.57499999999999,6.9315,70.1455,66.741,116.10900000000001,77.85,77.557,68.095,97.33250000000001,46.1675,18.6635,29.599,113.941,51.55200000000001,65.5935,25.3945,80.6575,4.3135,31.422,36.215,38.303,68.409,23.9405,10.3185,72.827,43.712,50.3255,111.7425,105.948,40.992,108.1995,1.85,36.745999999999995,68.598,80.351,63.9415,36.5115,64.843,40.553,164.2395,26.104,60.498999999999995,18.726,21.4375,154.698,66.7585,17.187,0.0,93.438,70.86,60.8455,22.57,44.919,22.8955,46.938,68.666],\"yaxis\":\"y\",\"type\":\"scatter\"}],                        {\"template\":{\"data\":{\"histogram2dcontour\":[{\"type\":\"histogram2dcontour\",\"colorbar\":{\"outlinewidth\":0,\"ticks\":\"\"},\"colorscale\":[[0.0,\"#0d0887\"],[0.1111111111111111,\"#46039f\"],[0.2222222222222222,\"#7201a8\"],[0.3333333333333333,\"#9c179e\"],[0.4444444444444444,\"#bd3786\"],[0.5555555555555556,\"#d8576b\"],[0.6666666666666666,\"#ed7953\"],[0.7777777777777778,\"#fb9f3a\"],[0.8888888888888888,\"#fdca26\"],[1.0,\"#f0f921\"]]}],\"choropleth\":[{\"type\":\"choropleth\",\"colorbar\":{\"outlinewidth\":0,\"ticks\":\"\"}}],\"histogram2d\":[{\"type\":\"histogram2d\",\"colorbar\":{\"outlinewidth\":0,\"ticks\":\"\"},\"colorscale\":[[0.0,\"#0d0887\"],[0.1111111111111111,\"#46039f\"],[0.2222222222222222,\"#7201a8\"],[0.3333333333333333,\"#9c179e\"],[0.4444444444444444,\"#bd3786\"],[0.5555555555555556,\"#d8576b\"],[0.6666666666666666,\"#ed7953\"],[0.7777777777777778,\"#fb9f3a\"],[0.8888888888888888,\"#fdca26\"],[1.0,\"#f0f921\"]]}],\"heatmap\":[{\"type\":\"heatmap\",\"colorbar\":{\"outlinewidth\":0,\"ticks\":\"\"},\"colorscale\":[[0.0,\"#0d0887\"],[0.1111111111111111,\"#46039f\"],[0.2222222222222222,\"#7201a8\"],[0.3333333333333333,\"#9c179e\"],[0.4444444444444444,\"#bd3786\"],[0.5555555555555556,\"#d8576b\"],[0.6666666666666666,\"#ed7953\"],[0.7777777777777778,\"#fb9f3a\"],[0.8888888888888888,\"#fdca26\"],[1.0,\"#f0f921\"]]}],\"heatmapgl\":[{\"type\":\"heatmapgl\",\"colorbar\":{\"outlinewidth\":0,\"ticks\":\"\"},\"colorscale\":[[0.0,\"#0d0887\"],[0.1111111111111111,\"#46039f\"],[0.2222222222222222,\"#7201a8\"],[0.3333333333333333,\"#9c179e\"],[0.4444444444444444,\"#bd3786\"],[0.5555555555555556,\"#d8576b\"],[0.6666666666666666,\"#ed7953\"],[0.7777777777777778,\"#fb9f3a\"],[0.8888888888888888,\"#fdca26\"],[1.0,\"#f0f921\"]]}],\"contourcarpet\":[{\"type\":\"contourcarpet\",\"colorbar\":{\"outlinewidth\":0,\"ticks\":\"\"}}],\"contour\":[{\"type\":\"contour\",\"colorbar\":{\"outlinewidth\":0,\"ticks\":\"\"},\"colorscale\":[[0.0,\"#0d0887\"],[0.1111111111111111,\"#46039f\"],[0.2222222222222222,\"#7201a8\"],[0.3333333333333333,\"#9c179e\"],[0.4444444444444444,\"#bd3786\"],[0.5555555555555556,\"#d8576b\"],[0.6666666666666666,\"#ed7953\"],[0.7777777777777778,\"#fb9f3a\"],[0.8888888888888888,\"#fdca26\"],[1.0,\"#f0f921\"]]}],\"surface\":[{\"type\":\"surface\",\"colorbar\":{\"outlinewidth\":0,\"ticks\":\"\"},\"colorscale\":[[0.0,\"#0d0887\"],[0.1111111111111111,\"#46039f\"],[0.2222222222222222,\"#7201a8\"],[0.3333333333333333,\"#9c179e\"],[0.4444444444444444,\"#bd3786\"],[0.5555555555555556,\"#d8576b\"],[0.6666666666666666,\"#ed7953\"],[0.7777777777777778,\"#fb9f3a\"],[0.8888888888888888,\"#fdca26\"],[1.0,\"#f0f921\"]]}],\"mesh3d\":[{\"type\":\"mesh3d\",\"colorbar\":{\"outlinewidth\":0,\"ticks\":\"\"}}],\"scatter\":[{\"fillpattern\":{\"fillmode\":\"overlay\",\"size\":10,\"solidity\":0.2},\"type\":\"scatter\"}],\"parcoords\":[{\"type\":\"parcoords\",\"line\":{\"colorbar\":{\"outlinewidth\":0,\"ticks\":\"\"}}}],\"scatterpolargl\":[{\"type\":\"scatterpolargl\",\"marker\":{\"colorbar\":{\"outlinewidth\":0,\"ticks\":\"\"}}}],\"bar\":[{\"error_x\":{\"color\":\"#2a3f5f\"},\"error_y\":{\"color\":\"#2a3f5f\"},\"marker\":{\"line\":{\"color\":\"#E5ECF6\",\"width\":0.5},\"pattern\":{\"fillmode\":\"overlay\",\"size\":10,\"solidity\":0.2}},\"type\":\"bar\"}],\"scattergeo\":[{\"type\":\"scattergeo\",\"marker\":{\"colorbar\":{\"outlinewidth\":0,\"ticks\":\"\"}}}],\"scatterpolar\":[{\"type\":\"scatterpolar\",\"marker\":{\"colorbar\":{\"outlinewidth\":0,\"ticks\":\"\"}}}],\"histogram\":[{\"marker\":{\"pattern\":{\"fillmode\":\"overlay\",\"size\":10,\"solidity\":0.2}},\"type\":\"histogram\"}],\"scattergl\":[{\"type\":\"scattergl\",\"marker\":{\"colorbar\":{\"outlinewidth\":0,\"ticks\":\"\"}}}],\"scatter3d\":[{\"type\":\"scatter3d\",\"line\":{\"colorbar\":{\"outlinewidth\":0,\"ticks\":\"\"}},\"marker\":{\"colorbar\":{\"outlinewidth\":0,\"ticks\":\"\"}}}],\"scattermapbox\":[{\"type\":\"scattermapbox\",\"marker\":{\"colorbar\":{\"outlinewidth\":0,\"ticks\":\"\"}}}],\"scatterternary\":[{\"type\":\"scatterternary\",\"marker\":{\"colorbar\":{\"outlinewidth\":0,\"ticks\":\"\"}}}],\"scattercarpet\":[{\"type\":\"scattercarpet\",\"marker\":{\"colorbar\":{\"outlinewidth\":0,\"ticks\":\"\"}}}],\"carpet\":[{\"aaxis\":{\"endlinecolor\":\"#2a3f5f\",\"gridcolor\":\"white\",\"linecolor\":\"white\",\"minorgridcolor\":\"white\",\"startlinecolor\":\"#2a3f5f\"},\"baxis\":{\"endlinecolor\":\"#2a3f5f\",\"gridcolor\":\"white\",\"linecolor\":\"white\",\"minorgridcolor\":\"white\",\"startlinecolor\":\"#2a3f5f\"},\"type\":\"carpet\"}],\"table\":[{\"cells\":{\"fill\":{\"color\":\"#EBF0F8\"},\"line\":{\"color\":\"white\"}},\"header\":{\"fill\":{\"color\":\"#C8D4E3\"},\"line\":{\"color\":\"white\"}},\"type\":\"table\"}],\"barpolar\":[{\"marker\":{\"line\":{\"color\":\"#E5ECF6\",\"width\":0.5},\"pattern\":{\"fillmode\":\"overlay\",\"size\":10,\"solidity\":0.2}},\"type\":\"barpolar\"}],\"pie\":[{\"automargin\":true,\"type\":\"pie\"}]},\"layout\":{\"autotypenumbers\":\"strict\",\"colorway\":[\"#636efa\",\"#EF553B\",\"#00cc96\",\"#ab63fa\",\"#FFA15A\",\"#19d3f3\",\"#FF6692\",\"#B6E880\",\"#FF97FF\",\"#FECB52\"],\"font\":{\"color\":\"#2a3f5f\"},\"hovermode\":\"closest\",\"hoverlabel\":{\"align\":\"left\"},\"paper_bgcolor\":\"white\",\"plot_bgcolor\":\"#E5ECF6\",\"polar\":{\"bgcolor\":\"#E5ECF6\",\"angularaxis\":{\"gridcolor\":\"white\",\"linecolor\":\"white\",\"ticks\":\"\"},\"radialaxis\":{\"gridcolor\":\"white\",\"linecolor\":\"white\",\"ticks\":\"\"}},\"ternary\":{\"bgcolor\":\"#E5ECF6\",\"aaxis\":{\"gridcolor\":\"white\",\"linecolor\":\"white\",\"ticks\":\"\"},\"baxis\":{\"gridcolor\":\"white\",\"linecolor\":\"white\",\"ticks\":\"\"},\"caxis\":{\"gridcolor\":\"white\",\"linecolor\":\"white\",\"ticks\":\"\"}},\"coloraxis\":{\"colorbar\":{\"outlinewidth\":0,\"ticks\":\"\"}},\"colorscale\":{\"sequential\":[[0.0,\"#0d0887\"],[0.1111111111111111,\"#46039f\"],[0.2222222222222222,\"#7201a8\"],[0.3333333333333333,\"#9c179e\"],[0.4444444444444444,\"#bd3786\"],[0.5555555555555556,\"#d8576b\"],[0.6666666666666666,\"#ed7953\"],[0.7777777777777778,\"#fb9f3a\"],[0.8888888888888888,\"#fdca26\"],[1.0,\"#f0f921\"]],\"sequentialminus\":[[0.0,\"#0d0887\"],[0.1111111111111111,\"#46039f\"],[0.2222222222222222,\"#7201a8\"],[0.3333333333333333,\"#9c179e\"],[0.4444444444444444,\"#bd3786\"],[0.5555555555555556,\"#d8576b\"],[0.6666666666666666,\"#ed7953\"],[0.7777777777777778,\"#fb9f3a\"],[0.8888888888888888,\"#fdca26\"],[1.0,\"#f0f921\"]],\"diverging\":[[0,\"#8e0152\"],[0.1,\"#c51b7d\"],[0.2,\"#de77ae\"],[0.3,\"#f1b6da\"],[0.4,\"#fde0ef\"],[0.5,\"#f7f7f7\"],[0.6,\"#e6f5d0\"],[0.7,\"#b8e186\"],[0.8,\"#7fbc41\"],[0.9,\"#4d9221\"],[1,\"#276419\"]]},\"xaxis\":{\"gridcolor\":\"white\",\"linecolor\":\"white\",\"ticks\":\"\",\"title\":{\"standoff\":15},\"zerolinecolor\":\"white\",\"automargin\":true,\"zerolinewidth\":2},\"yaxis\":{\"gridcolor\":\"white\",\"linecolor\":\"white\",\"ticks\":\"\",\"title\":{\"standoff\":15},\"zerolinecolor\":\"white\",\"automargin\":true,\"zerolinewidth\":2},\"scene\":{\"xaxis\":{\"backgroundcolor\":\"#E5ECF6\",\"gridcolor\":\"white\",\"linecolor\":\"white\",\"showbackground\":true,\"ticks\":\"\",\"zerolinecolor\":\"white\",\"gridwidth\":2},\"yaxis\":{\"backgroundcolor\":\"#E5ECF6\",\"gridcolor\":\"white\",\"linecolor\":\"white\",\"showbackground\":true,\"ticks\":\"\",\"zerolinecolor\":\"white\",\"gridwidth\":2},\"zaxis\":{\"backgroundcolor\":\"#E5ECF6\",\"gridcolor\":\"white\",\"linecolor\":\"white\",\"showbackground\":true,\"ticks\":\"\",\"zerolinecolor\":\"white\",\"gridwidth\":2}},\"shapedefaults\":{\"line\":{\"color\":\"#2a3f5f\"}},\"annotationdefaults\":{\"arrowcolor\":\"#2a3f5f\",\"arrowhead\":0,\"arrowwidth\":1},\"geo\":{\"bgcolor\":\"white\",\"landcolor\":\"#E5ECF6\",\"subunitcolor\":\"white\",\"showland\":true,\"showlakes\":true,\"lakecolor\":\"white\"},\"title\":{\"x\":0.05},\"mapbox\":{\"style\":\"light\"}}},\"xaxis\":{\"anchor\":\"y\",\"domain\":[0.0,1.0],\"title\":{\"text\":\"Date\"}},\"yaxis\":{\"anchor\":\"x\",\"domain\":[0.0,1.0],\"title\":{\"text\":\"Gross Income\"}},\"legend\":{\"title\":{\"text\":\"Branch\"},\"tracegroupgap\":0},\"title\":{\"text\":\"Daily Gross Income by Branch through the first quarter of 2019\"}},                        {\"responsive\": true}                    ).then(function(){\n",
       "                            \n",
       "var gd = document.getElementById('f443d9e0-b872-44a8-add1-83d5a4ebb04c');\n",
       "var x = new MutationObserver(function (mutations, observer) {{\n",
       "        var display = window.getComputedStyle(gd).display;\n",
       "        if (!display || display === 'none') {{\n",
       "            console.log([gd, 'removed!']);\n",
       "            Plotly.purge(gd);\n",
       "            observer.disconnect();\n",
       "        }}\n",
       "}});\n",
       "\n",
       "// Listen for the removal of the full notebook cells\n",
       "var notebookContainer = gd.closest('#notebook-container');\n",
       "if (notebookContainer) {{\n",
       "    x.observe(notebookContainer, {childList: true});\n",
       "}}\n",
       "\n",
       "// Listen for the clearing of the current output cell\n",
       "var outputEl = gd.closest('.output');\n",
       "if (outputEl) {{\n",
       "    x.observe(outputEl, {childList: true});\n",
       "}}\n",
       "\n",
       "                        })                };                });            </script>        </div>"
      ]
     },
     "metadata": {},
     "output_type": "display_data"
    }
   ],
   "source": [
    "fig = px.line(daily_gross_income,\n",
    "              x=daily_gross_income.index,  \n",
    "              y=daily_gross_income.columns,\n",
    "              labels={'value': 'Gross Income', 'index': 'Date'},\n",
    "              title='Daily Gross Income by Branch through the first quarter of 2019'\n",
    "             )\n",
    "fig.show()"
   ]
  },
  {
   "cell_type": "code",
   "execution_count": 101,
   "id": "3028e1c2-a60c-46d3-82bc-acd3764a0b92",
   "metadata": {},
   "outputs": [
    {
     "data": {
      "text/html": [
       "<div>\n",
       "<style scoped>\n",
       "    .dataframe tbody tr th:only-of-type {\n",
       "        vertical-align: middle;\n",
       "    }\n",
       "\n",
       "    .dataframe tbody tr th {\n",
       "        vertical-align: top;\n",
       "    }\n",
       "\n",
       "    .dataframe thead th {\n",
       "        text-align: right;\n",
       "    }\n",
       "</style>\n",
       "<table border=\"1\" class=\"dataframe\">\n",
       "  <thead>\n",
       "    <tr style=\"text-align: right;\">\n",
       "      <th>Branch</th>\n",
       "      <th>A</th>\n",
       "      <th>B</th>\n",
       "      <th>C</th>\n",
       "    </tr>\n",
       "    <tr>\n",
       "      <th>Date</th>\n",
       "      <th></th>\n",
       "      <th></th>\n",
       "      <th></th>\n",
       "    </tr>\n",
       "  </thead>\n",
       "  <tbody>\n",
       "    <tr>\n",
       "      <th>2019-01-31</th>\n",
       "      <td>1841.9585</td>\n",
       "      <td>1770.2885</td>\n",
       "      <td>1925.4610</td>\n",
       "    </tr>\n",
       "    <tr>\n",
       "      <th>2019-02-28</th>\n",
       "      <td>1421.9105</td>\n",
       "      <td>1639.2510</td>\n",
       "      <td>1568.3325</td>\n",
       "    </tr>\n",
       "    <tr>\n",
       "      <th>2019-03-31</th>\n",
       "      <td>1793.2915</td>\n",
       "      <td>1647.4925</td>\n",
       "      <td>1771.3830</td>\n",
       "    </tr>\n",
       "  </tbody>\n",
       "</table>\n",
       "</div>"
      ],
      "text/plain": [
       "Branch              A          B          C\n",
       "Date                                       \n",
       "2019-01-31  1841.9585  1770.2885  1925.4610\n",
       "2019-02-28  1421.9105  1639.2510  1568.3325\n",
       "2019-03-31  1793.2915  1647.4925  1771.3830"
      ]
     },
     "execution_count": 101,
     "metadata": {},
     "output_type": "execute_result"
    }
   ],
   "source": [
    "monthly_income=df.pivot_table(index='Date',\n",
    "                              columns='Branch',\n",
    "                              values='gross income',\n",
    "                              aggfunc='sum'\n",
    "                             ).resample('M').sum()\n",
    "monthly_income"
   ]
  },
  {
   "cell_type": "code",
   "execution_count": 102,
   "id": "cc3e9fd9-bb62-488f-bb76-72f32b9f148a",
   "metadata": {},
   "outputs": [
    {
     "data": {
      "image/png": "[encoded data removed]",
      "text/plain": [
       "<Figure size 1000x500 with 1 Axes>"
      ]
     },
     "metadata": {},
     "output_type": "display_data"
    }
   ],
   "source": [
    "monthly_income.plot(kind='bar', figsize=(10, 5),fontsize=14)\n",
    "plt.title('Monthly Gross Income by Branch through the first quarter of 2019',fontsize=16)\n",
    "plt.xlabel('Month',fontsize=15)\n",
    "plt.gca().set_xticklabels(monthly_income.index.strftime('%b'), rotation=45)\n",
    "plt.ylabel('Gross Income',fontsize=15)\n",
    "plt.legend(title='Branch')\n",
    "plt.tight_layout()\n",
    "plt.show()"
   ]
  },
  {
   "cell_type": "code",
   "execution_count": 103,
   "id": "3abd5b1e-4577-4dd9-b8b9-b66dcd5a2bb6",
   "metadata": {},
   "outputs": [
    {
     "data": {
      "text/html": [
       "<div>\n",
       "<style scoped>\n",
       "    .dataframe tbody tr th:only-of-type {\n",
       "        vertical-align: middle;\n",
       "    }\n",
       "\n",
       "    .dataframe tbody tr th {\n",
       "        vertical-align: top;\n",
       "    }\n",
       "\n",
       "    .dataframe thead th {\n",
       "        text-align: right;\n",
       "    }\n",
       "</style>\n",
       "<table border=\"1\" class=\"dataframe\">\n",
       "  <thead>\n",
       "    <tr style=\"text-align: right;\">\n",
       "      <th>Customer type</th>\n",
       "      <th>Member</th>\n",
       "      <th>Normal</th>\n",
       "    </tr>\n",
       "    <tr>\n",
       "      <th>Branch</th>\n",
       "      <th></th>\n",
       "      <th></th>\n",
       "    </tr>\n",
       "  </thead>\n",
       "  <tbody>\n",
       "    <tr>\n",
       "      <th>A</th>\n",
       "      <td>167</td>\n",
       "      <td>173</td>\n",
       "    </tr>\n",
       "    <tr>\n",
       "      <th>B</th>\n",
       "      <td>165</td>\n",
       "      <td>167</td>\n",
       "    </tr>\n",
       "    <tr>\n",
       "      <th>C</th>\n",
       "      <td>169</td>\n",
       "      <td>159</td>\n",
       "    </tr>\n",
       "  </tbody>\n",
       "</table>\n",
       "</div>"
      ],
      "text/plain": [
       "Customer type  Member  Normal\n",
       "Branch                       \n",
       "A                 167     173\n",
       "B                 165     167\n",
       "C                 169     159"
      ]
     },
     "execution_count": 103,
     "metadata": {},
     "output_type": "execute_result"
    }
   ],
   "source": [
    "client_type_distribution = df.groupby(['Branch', 'Customer type']).size().unstack()\n",
    "client_type_distribution"
   ]
  },
  {
   "cell_type": "code",
   "execution_count": 104,
   "id": "80d1f915-168f-42d1-9666-7655aff2fb93",
   "metadata": {},
   "outputs": [
    {
     "data": {
      "image/png": "[encoded data removed]",
      "text/plain": [
       "<Figure size 1800x600 with 3 Axes>"
      ]
     },
     "metadata": {},
     "output_type": "display_data"
    }
   ],
   "source": [
    "\n",
    "fig, axes = plt.subplots(1, 3, figsize=(18, 6))\n",
    "for i, branch in enumerate(client_type_distribution.index):\n",
    "    sizes = client_type_distribution.loc[branch]\n",
    "    axes[i].pie(sizes, labels=sizes.index, autopct='%1.1f%%', startangle=0, wedgeprops={'width': 0.3})\n",
    "    axes[i].set_title(f'Branch {branch}')\n",
    "    axes[i].axis('equal')  \n",
    "plt.suptitle('Ratio of Normal Clients vs Member Clients for Each Branch', fontsize=16)\n",
    "plt.show()"
   ]
  },
  {
   "cell_type": "code",
   "execution_count": 105,
   "id": "f376a738-7604-482d-bd8f-841ef8ac0e65",
   "metadata": {},
   "outputs": [
    {
     "data": {
      "text/html": [
       "<div>\n",
       "<style scoped>\n",
       "    .dataframe tbody tr th:only-of-type {\n",
       "        vertical-align: middle;\n",
       "    }\n",
       "\n",
       "    .dataframe tbody tr th {\n",
       "        vertical-align: top;\n",
       "    }\n",
       "\n",
       "    .dataframe thead th {\n",
       "        text-align: right;\n",
       "    }\n",
       "</style>\n",
       "<table border=\"1\" class=\"dataframe\">\n",
       "  <thead>\n",
       "    <tr style=\"text-align: right;\">\n",
       "      <th>Customer type</th>\n",
       "      <th>Member</th>\n",
       "      <th>Normal</th>\n",
       "    </tr>\n",
       "    <tr>\n",
       "      <th>Branch</th>\n",
       "      <th></th>\n",
       "      <th></th>\n",
       "    </tr>\n",
       "  </thead>\n",
       "  <tbody>\n",
       "    <tr>\n",
       "      <th>A</th>\n",
       "      <td>2554.1655</td>\n",
       "      <td>2502.995</td>\n",
       "    </tr>\n",
       "    <tr>\n",
       "      <th>B</th>\n",
       "      <td>2557.3660</td>\n",
       "      <td>2499.666</td>\n",
       "    </tr>\n",
       "    <tr>\n",
       "      <th>C</th>\n",
       "      <td>2708.6325</td>\n",
       "      <td>2556.544</td>\n",
       "    </tr>\n",
       "  </tbody>\n",
       "</table>\n",
       "</div>"
      ],
      "text/plain": [
       "Customer type     Member    Normal\n",
       "Branch                            \n",
       "A              2554.1655  2502.995\n",
       "B              2557.3660  2499.666\n",
       "C              2708.6325  2556.544"
      ]
     },
     "execution_count": 105,
     "metadata": {},
     "output_type": "execute_result"
    }
   ],
   "source": [
    "membership_sales = df.groupby(['Branch', 'Customer type'])['gross income'].sum().unstack()\n",
    "membership_sales"
   ]
  },
  {
   "cell_type": "code",
   "execution_count": 106,
   "id": "9b89ce33-df7e-4e48-8fa0-3c02b0618b81",
   "metadata": {},
   "outputs": [
    {
     "data": {
      "image/png": "[encoded data removed]",
      "text/plain": [
       "<Figure size 1800x600 with 3 Axes>"
      ]
     },
     "metadata": {},
     "output_type": "display_data"
    }
   ],
   "source": [
    "fig, axes = plt.subplots(1, 3, figsize=(18, 6))\n",
    "for i, branch in enumerate(membership_sales.index):\n",
    "    sizes = membership_sales.loc[branch]\n",
    "    axes[i].pie(sizes, labels=sizes.index, autopct='%1.1f%%', startangle=0, wedgeprops={'width': 0.3})\n",
    "    axes[i].set_title(f'Branch {branch}')\n",
    "    axes[i].axis('equal')  \n",
    "plt.suptitle('Member vs Non-Member Sales_Ratio by Branch', fontsize=16)\n",
    "plt.show()"
   ]
  },
  {
   "cell_type": "code",
   "execution_count": 107,
   "id": "ba9c1bfd-6d36-46ef-8fa8-0c53b2c93a73",
   "metadata": {},
   "outputs": [
    {
     "data": {
      "text/html": [
       "<div>\n",
       "<style scoped>\n",
       "    .dataframe tbody tr th:only-of-type {\n",
       "        vertical-align: middle;\n",
       "    }\n",
       "\n",
       "    .dataframe tbody tr th {\n",
       "        vertical-align: top;\n",
       "    }\n",
       "\n",
       "    .dataframe thead th {\n",
       "        text-align: right;\n",
       "    }\n",
       "</style>\n",
       "<table border=\"1\" class=\"dataframe\">\n",
       "  <thead>\n",
       "    <tr style=\"text-align: right;\">\n",
       "      <th>Payment</th>\n",
       "      <th>Cash</th>\n",
       "      <th>Credit card</th>\n",
       "      <th>Ewallet</th>\n",
       "    </tr>\n",
       "    <tr>\n",
       "      <th>Branch</th>\n",
       "      <th></th>\n",
       "      <th></th>\n",
       "      <th></th>\n",
       "    </tr>\n",
       "  </thead>\n",
       "  <tbody>\n",
       "    <tr>\n",
       "      <th>A</th>\n",
       "      <td>110</td>\n",
       "      <td>104</td>\n",
       "      <td>126</td>\n",
       "    </tr>\n",
       "    <tr>\n",
       "      <th>B</th>\n",
       "      <td>110</td>\n",
       "      <td>109</td>\n",
       "      <td>113</td>\n",
       "    </tr>\n",
       "    <tr>\n",
       "      <th>C</th>\n",
       "      <td>124</td>\n",
       "      <td>98</td>\n",
       "      <td>106</td>\n",
       "    </tr>\n",
       "  </tbody>\n",
       "</table>\n",
       "</div>"
      ],
      "text/plain": [
       "Payment  Cash  Credit card  Ewallet\n",
       "Branch                             \n",
       "A         110          104      126\n",
       "B         110          109      113\n",
       "C         124           98      106"
      ]
     },
     "execution_count": 107,
     "metadata": {},
     "output_type": "execute_result"
    }
   ],
   "source": [
    "payment_method=df.groupby(['Branch','Payment']).size().unstack()\n",
    "payment_method"
   ]
  },
  {
   "cell_type": "code",
   "execution_count": 108,
   "id": "69f320dd-4773-4217-85d7-7e224914b268",
   "metadata": {},
   "outputs": [
    {
     "data": {
      "image/png": "[encoded data removed]",
      "text/plain": [
       "<Figure size 1800x600 with 3 Axes>"
      ]
     },
     "metadata": {},
     "output_type": "display_data"
    }
   ],
   "source": [
    "fig, axes = plt.subplots(1, 3, figsize=(18, 6))\n",
    "for i, branch in enumerate(payment_method.index):\n",
    "    sizes = payment_method.loc[branch]\n",
    "    axes[i].pie(sizes, labels=sizes.index, autopct='%1.1f%%', startangle=90, wedgeprops={'width': 0.3})\n",
    "    axes[i].set_title(f'Branch {branch}')\n",
    "    axes[i].axis('equal')  \n",
    "plt.suptitle('Ratio among Payment Method for Each Branch', fontsize=16)\n",
    "plt.show()"
   ]
  },
  {
   "cell_type": "code",
   "execution_count": 109,
   "id": "00fcc6e5-71bc-4557-a8bd-d9147fcba4b7",
   "metadata": {},
   "outputs": [
    {
     "data": {
      "text/html": [
       "<div>\n",
       "<style scoped>\n",
       "    .dataframe tbody tr th:only-of-type {\n",
       "        vertical-align: middle;\n",
       "    }\n",
       "\n",
       "    .dataframe tbody tr th {\n",
       "        vertical-align: top;\n",
       "    }\n",
       "\n",
       "    .dataframe thead th {\n",
       "        text-align: right;\n",
       "    }\n",
       "</style>\n",
       "<table border=\"1\" class=\"dataframe\">\n",
       "  <thead>\n",
       "    <tr style=\"text-align: right;\">\n",
       "      <th>Gender</th>\n",
       "      <th>Female</th>\n",
       "      <th>Male</th>\n",
       "    </tr>\n",
       "    <tr>\n",
       "      <th>Branch</th>\n",
       "      <th></th>\n",
       "      <th></th>\n",
       "    </tr>\n",
       "  </thead>\n",
       "  <tbody>\n",
       "    <tr>\n",
       "      <th>A</th>\n",
       "      <td>80</td>\n",
       "      <td>87</td>\n",
       "    </tr>\n",
       "    <tr>\n",
       "      <th>B</th>\n",
       "      <td>85</td>\n",
       "      <td>80</td>\n",
       "    </tr>\n",
       "    <tr>\n",
       "      <th>C</th>\n",
       "      <td>96</td>\n",
       "      <td>73</td>\n",
       "    </tr>\n",
       "  </tbody>\n",
       "</table>\n",
       "</div>"
      ],
      "text/plain": [
       "Gender  Female  Male\n",
       "Branch              \n",
       "A           80    87\n",
       "B           85    80\n",
       "C           96    73"
      ]
     },
     "execution_count": 109,
     "metadata": {},
     "output_type": "execute_result"
    }
   ],
   "source": [
    "members_gender_distribution=df[df['Customer type']=='Member'].groupby(['Branch','Gender']).size().unstack() \n",
    "members_gender_distribution"
   ]
  },
  {
   "cell_type": "code",
   "execution_count": 110,
   "id": "6757e83f-65e4-46a4-b5a5-266e65a2ccff",
   "metadata": {},
   "outputs": [
    {
     "data": {
      "image/png": "[encoded data removed]",
      "text/plain": [
       "<Figure size 1800x600 with 3 Axes>"
      ]
     },
     "metadata": {},
     "output_type": "display_data"
    }
   ],
   "source": [
    "fig, axes = plt.subplots(1, 3, figsize=(18, 6))\n",
    "for i, branch in enumerate(members_gender_distribution.index):\n",
    "    sizes = members_gender_distribution.loc[branch]\n",
    "    axes[i].pie(sizes, labels=sizes.index, autopct='%1.1f%%', startangle=180, wedgeprops={'width': 0.3})\n",
    "    axes[i].set_title(f'Branch {branch}')\n",
    "    axes[i].axis('equal')  \n",
    "plt.suptitle('Gender Distribution Among Members Across Branches', fontsize=16)\n",
    "plt.show()"
   ]
  },
  {
   "cell_type": "code",
   "execution_count": 111,
   "id": "080d530e-f36e-442f-9f3f-239bbbf44970",
   "metadata": {},
   "outputs": [
    {
     "data": {
      "text/html": [
       "<div>\n",
       "<style scoped>\n",
       "    .dataframe tbody tr th:only-of-type {\n",
       "        vertical-align: middle;\n",
       "    }\n",
       "\n",
       "    .dataframe tbody tr th {\n",
       "        vertical-align: top;\n",
       "    }\n",
       "\n",
       "    .dataframe thead th {\n",
       "        text-align: right;\n",
       "    }\n",
       "</style>\n",
       "<table border=\"1\" class=\"dataframe\">\n",
       "  <thead>\n",
       "    <tr style=\"text-align: right;\">\n",
       "      <th></th>\n",
       "      <th>Invoice ID</th>\n",
       "      <th>Branch</th>\n",
       "      <th>City</th>\n",
       "      <th>Customer type</th>\n",
       "      <th>Gender</th>\n",
       "      <th>Product line</th>\n",
       "      <th>Unit price</th>\n",
       "      <th>Quantity</th>\n",
       "      <th>Tax 5%</th>\n",
       "      <th>Total</th>\n",
       "      <th>Date</th>\n",
       "      <th>Time</th>\n",
       "      <th>Payment</th>\n",
       "      <th>cogs</th>\n",
       "      <th>gross margin percentage</th>\n",
       "      <th>gross income</th>\n",
       "      <th>Rating</th>\n",
       "    </tr>\n",
       "  </thead>\n",
       "  <tbody>\n",
       "    <tr>\n",
       "      <th>853</th>\n",
       "      <td>866-70-2814</td>\n",
       "      <td>B</td>\n",
       "      <td>Mandalay</td>\n",
       "      <td>Normal</td>\n",
       "      <td>Female</td>\n",
       "      <td>Electronic accessories</td>\n",
       "      <td>52.79</td>\n",
       "      <td>10</td>\n",
       "      <td>26.3950</td>\n",
       "      <td>554.2950</td>\n",
       "      <td>2019-02-25</td>\n",
       "      <td>11:58</td>\n",
       "      <td>Ewallet</td>\n",
       "      <td>527.90</td>\n",
       "      <td>4.761905</td>\n",
       "      <td>26.3950</td>\n",
       "      <td>10.0</td>\n",
       "    </tr>\n",
       "    <tr>\n",
       "      <th>67</th>\n",
       "      <td>109-28-2512</td>\n",
       "      <td>B</td>\n",
       "      <td>Mandalay</td>\n",
       "      <td>Member</td>\n",
       "      <td>Female</td>\n",
       "      <td>Fashion accessories</td>\n",
       "      <td>97.61</td>\n",
       "      <td>6</td>\n",
       "      <td>29.2830</td>\n",
       "      <td>614.9430</td>\n",
       "      <td>2019-01-07</td>\n",
       "      <td>15:01</td>\n",
       "      <td>Ewallet</td>\n",
       "      <td>585.66</td>\n",
       "      <td>4.761905</td>\n",
       "      <td>29.2830</td>\n",
       "      <td>9.9</td>\n",
       "    </tr>\n",
       "    <tr>\n",
       "      <th>103</th>\n",
       "      <td>212-62-1842</td>\n",
       "      <td>A</td>\n",
       "      <td>Yangon</td>\n",
       "      <td>Normal</td>\n",
       "      <td>Male</td>\n",
       "      <td>Food and beverages</td>\n",
       "      <td>58.26</td>\n",
       "      <td>6</td>\n",
       "      <td>17.4780</td>\n",
       "      <td>367.0380</td>\n",
       "      <td>2019-03-28</td>\n",
       "      <td>16:44</td>\n",
       "      <td>Cash</td>\n",
       "      <td>349.56</td>\n",
       "      <td>4.761905</td>\n",
       "      <td>17.4780</td>\n",
       "      <td>9.9</td>\n",
       "    </tr>\n",
       "    <tr>\n",
       "      <th>387</th>\n",
       "      <td>725-56-0833</td>\n",
       "      <td>A</td>\n",
       "      <td>Yangon</td>\n",
       "      <td>Normal</td>\n",
       "      <td>Female</td>\n",
       "      <td>Health and beauty</td>\n",
       "      <td>32.32</td>\n",
       "      <td>10</td>\n",
       "      <td>16.1600</td>\n",
       "      <td>339.3600</td>\n",
       "      <td>2019-02-20</td>\n",
       "      <td>16:49</td>\n",
       "      <td>Credit card</td>\n",
       "      <td>323.20</td>\n",
       "      <td>4.761905</td>\n",
       "      <td>16.1600</td>\n",
       "      <td>10.0</td>\n",
       "    </tr>\n",
       "    <tr>\n",
       "      <th>188</th>\n",
       "      <td>400-60-7251</td>\n",
       "      <td>A</td>\n",
       "      <td>Yangon</td>\n",
       "      <td>Normal</td>\n",
       "      <td>Male</td>\n",
       "      <td>Home and lifestyle</td>\n",
       "      <td>74.07</td>\n",
       "      <td>1</td>\n",
       "      <td>3.7035</td>\n",
       "      <td>77.7735</td>\n",
       "      <td>2019-02-10</td>\n",
       "      <td>12:50</td>\n",
       "      <td>Ewallet</td>\n",
       "      <td>74.07</td>\n",
       "      <td>4.761905</td>\n",
       "      <td>3.7035</td>\n",
       "      <td>9.9</td>\n",
       "    </tr>\n",
       "    <tr>\n",
       "      <th>60</th>\n",
       "      <td>285-68-5083</td>\n",
       "      <td>C</td>\n",
       "      <td>Naypyitaw</td>\n",
       "      <td>Member</td>\n",
       "      <td>Female</td>\n",
       "      <td>Sports and travel</td>\n",
       "      <td>24.74</td>\n",
       "      <td>3</td>\n",
       "      <td>3.7110</td>\n",
       "      <td>77.9310</td>\n",
       "      <td>2019-02-15</td>\n",
       "      <td>17:47</td>\n",
       "      <td>Credit card</td>\n",
       "      <td>74.22</td>\n",
       "      <td>4.761905</td>\n",
       "      <td>3.7110</td>\n",
       "      <td>10.0</td>\n",
       "    </tr>\n",
       "  </tbody>\n",
       "</table>\n",
       "</div>"
      ],
      "text/plain": [
       "      Invoice ID Branch       City Customer type  Gender  \\\n",
       "853  866-70-2814      B   Mandalay        Normal  Female   \n",
       "67   109-28-2512      B   Mandalay        Member  Female   \n",
       "103  212-62-1842      A     Yangon        Normal    Male   \n",
       "387  725-56-0833      A     Yangon        Normal  Female   \n",
       "188  400-60-7251      A     Yangon        Normal    Male   \n",
       "60   285-68-5083      C  Naypyitaw        Member  Female   \n",
       "\n",
       "               Product line  Unit price  Quantity   Tax 5%     Total  \\\n",
       "853  Electronic accessories       52.79        10  26.3950  554.2950   \n",
       "67      Fashion accessories       97.61         6  29.2830  614.9430   \n",
       "103      Food and beverages       58.26         6  17.4780  367.0380   \n",
       "387       Health and beauty       32.32        10  16.1600  339.3600   \n",
       "188      Home and lifestyle       74.07         1   3.7035   77.7735   \n",
       "60        Sports and travel       24.74         3   3.7110   77.9310   \n",
       "\n",
       "          Date   Time      Payment    cogs  gross margin percentage  \\\n",
       "853 2019-02-25  11:58      Ewallet  527.90                 4.761905   \n",
       "67  2019-01-07  15:01      Ewallet  585.66                 4.761905   \n",
       "103 2019-03-28  16:44         Cash  349.56                 4.761905   \n",
       "387 2019-02-20  16:49  Credit card  323.20                 4.761905   \n",
       "188 2019-02-10  12:50      Ewallet   74.07                 4.761905   \n",
       "60  2019-02-15  17:47  Credit card   74.22                 4.761905   \n",
       "\n",
       "     gross income  Rating  \n",
       "853       26.3950    10.0  \n",
       "67        29.2830     9.9  \n",
       "103       17.4780     9.9  \n",
       "387       16.1600    10.0  \n",
       "188        3.7035     9.9  \n",
       "60         3.7110    10.0  "
      ]
     },
     "execution_count": 111,
     "metadata": {},
     "output_type": "execute_result"
    }
   ],
   "source": [
    "df_top_rating_by_Productline=df.loc[df.groupby('Product line')['Rating'].idxmax()]\n",
    "df_top_rating_by_Productline"
   ]
  },
  {
   "cell_type": "code",
   "execution_count": 112,
   "id": "b4867624-bdba-4e76-a881-110c224403ce",
   "metadata": {},
   "outputs": [
    {
     "data": {
      "text/html": [
       "<div>\n",
       "<style scoped>\n",
       "    .dataframe tbody tr th:only-of-type {\n",
       "        vertical-align: middle;\n",
       "    }\n",
       "\n",
       "    .dataframe tbody tr th {\n",
       "        vertical-align: top;\n",
       "    }\n",
       "\n",
       "    .dataframe thead tr th {\n",
       "        text-align: left;\n",
       "    }\n",
       "\n",
       "    .dataframe thead tr:last-of-type th {\n",
       "        text-align: right;\n",
       "    }\n",
       "</style>\n",
       "<table border=\"1\" class=\"dataframe\">\n",
       "  <thead>\n",
       "    <tr>\n",
       "      <th></th>\n",
       "      <th></th>\n",
       "      <th colspan=\"4\" halign=\"left\">gross income</th>\n",
       "      <th>Max Income Date</th>\n",
       "      <th>Max Income Time</th>\n",
       "      <th>Max Income Unit Price</th>\n",
       "      <th colspan=\"3\" halign=\"left\">Unit price</th>\n",
       "      <th>Min Income Unit Price</th>\n",
       "      <th>Min Income Date</th>\n",
       "      <th>Min Income Time</th>\n",
       "    </tr>\n",
       "    <tr>\n",
       "      <th></th>\n",
       "      <th></th>\n",
       "      <th>max</th>\n",
       "      <th>min</th>\n",
       "      <th>mean</th>\n",
       "      <th>sum</th>\n",
       "      <th></th>\n",
       "      <th></th>\n",
       "      <th></th>\n",
       "      <th>max</th>\n",
       "      <th>mean</th>\n",
       "      <th>min</th>\n",
       "      <th></th>\n",
       "      <th></th>\n",
       "      <th></th>\n",
       "    </tr>\n",
       "    <tr>\n",
       "      <th>Product line</th>\n",
       "      <th>Branch</th>\n",
       "      <th></th>\n",
       "      <th></th>\n",
       "      <th></th>\n",
       "      <th></th>\n",
       "      <th></th>\n",
       "      <th></th>\n",
       "      <th></th>\n",
       "      <th></th>\n",
       "      <th></th>\n",
       "      <th></th>\n",
       "      <th></th>\n",
       "      <th></th>\n",
       "      <th></th>\n",
       "    </tr>\n",
       "  </thead>\n",
       "  <tbody>\n",
       "    <tr>\n",
       "      <th rowspan=\"3\" valign=\"top\">Electronic accessories</th>\n",
       "      <th>A</th>\n",
       "      <td>44.3350</td>\n",
       "      <td>1.4480</td>\n",
       "      <td>14.537392</td>\n",
       "      <td>872.2435</td>\n",
       "      <td>2019-01-12</td>\n",
       "      <td>14:50</td>\n",
       "      <td>88.67</td>\n",
       "      <td>99.56</td>\n",
       "      <td>54.871167</td>\n",
       "      <td>10.56</td>\n",
       "      <td>28.96</td>\n",
       "      <td>2019-02-07</td>\n",
       "      <td>10:18</td>\n",
       "    </tr>\n",
       "    <tr>\n",
       "      <th>B</th>\n",
       "      <td>44.8785</td>\n",
       "      <td>1.2725</td>\n",
       "      <td>14.763155</td>\n",
       "      <td>811.9735</td>\n",
       "      <td>2019-03-02</td>\n",
       "      <td>19:42</td>\n",
       "      <td>99.73</td>\n",
       "      <td>99.73</td>\n",
       "      <td>49.854182</td>\n",
       "      <td>10.59</td>\n",
       "      <td>25.45</td>\n",
       "      <td>2019-03-10</td>\n",
       "      <td>18:10</td>\n",
       "    </tr>\n",
       "    <tr>\n",
       "      <th>C</th>\n",
       "      <td>41.1700</td>\n",
       "      <td>1.5120</td>\n",
       "      <td>16.423355</td>\n",
       "      <td>903.2845</td>\n",
       "      <td>2019-03-29</td>\n",
       "      <td>19:12</td>\n",
       "      <td>82.34</td>\n",
       "      <td>99.69</td>\n",
       "      <td>55.809455</td>\n",
       "      <td>11.81</td>\n",
       "      <td>30.24</td>\n",
       "      <td>2019-03-04</td>\n",
       "      <td>15:44</td>\n",
       "    </tr>\n",
       "    <tr>\n",
       "      <th rowspan=\"3\" valign=\"top\">Fashion accessories</th>\n",
       "      <th>A</th>\n",
       "      <td>49.4900</td>\n",
       "      <td>0.6045</td>\n",
       "      <td>15.249775</td>\n",
       "      <td>777.7385</td>\n",
       "      <td>2019-02-08</td>\n",
       "      <td>16:20</td>\n",
       "      <td>98.98</td>\n",
       "      <td>99.10</td>\n",
       "      <td>56.670392</td>\n",
       "      <td>12.09</td>\n",
       "      <td>12.09</td>\n",
       "      <td>2019-01-26</td>\n",
       "      <td>18:19</td>\n",
       "    </tr>\n",
       "    <tr>\n",
       "      <th>B</th>\n",
       "      <td>41.6250</td>\n",
       "      <td>1.6760</td>\n",
       "      <td>12.606234</td>\n",
       "      <td>781.5865</td>\n",
       "      <td>2019-01-12</td>\n",
       "      <td>11:25</td>\n",
       "      <td>83.25</td>\n",
       "      <td>99.89</td>\n",
       "      <td>54.843871</td>\n",
       "      <td>14.48</td>\n",
       "      <td>33.52</td>\n",
       "      <td>2019-02-08</td>\n",
       "      <td>15:31</td>\n",
       "    </tr>\n",
       "    <tr>\n",
       "      <th>C</th>\n",
       "      <td>49.6500</td>\n",
       "      <td>0.6270</td>\n",
       "      <td>15.794923</td>\n",
       "      <td>1026.6700</td>\n",
       "      <td>2019-02-15</td>\n",
       "      <td>14:53</td>\n",
       "      <td>99.30</td>\n",
       "      <td>99.82</td>\n",
       "      <td>59.736000</td>\n",
       "      <td>10.18</td>\n",
       "      <td>12.54</td>\n",
       "      <td>2019-02-21</td>\n",
       "      <td>12:38</td>\n",
       "    </tr>\n",
       "    <tr>\n",
       "      <th rowspan=\"3\" valign=\"top\">Food and beverages</th>\n",
       "      <th>A</th>\n",
       "      <td>44.3970</td>\n",
       "      <td>1.5920</td>\n",
       "      <td>14.091216</td>\n",
       "      <td>817.2905</td>\n",
       "      <td>2019-02-19</td>\n",
       "      <td>15:07</td>\n",
       "      <td>98.66</td>\n",
       "      <td>99.78</td>\n",
       "      <td>54.974483</td>\n",
       "      <td>10.13</td>\n",
       "      <td>31.84</td>\n",
       "      <td>2019-02-09</td>\n",
       "      <td>13:22</td>\n",
       "    </tr>\n",
       "    <tr>\n",
       "      <th>B</th>\n",
       "      <td>42.3150</td>\n",
       "      <td>2.6860</td>\n",
       "      <td>14.490370</td>\n",
       "      <td>724.5185</td>\n",
       "      <td>2019-01-01</td>\n",
       "      <td>11:36</td>\n",
       "      <td>84.63</td>\n",
       "      <td>99.69</td>\n",
       "      <td>55.540000</td>\n",
       "      <td>17.63</td>\n",
       "      <td>53.72</td>\n",
       "      <td>2019-03-01</td>\n",
       "      <td>20:03</td>\n",
       "    </tr>\n",
       "    <tr>\n",
       "      <th>C</th>\n",
       "      <td>49.2600</td>\n",
       "      <td>1.0790</td>\n",
       "      <td>17.147803</td>\n",
       "      <td>1131.7550</td>\n",
       "      <td>2019-01-30</td>\n",
       "      <td>20:23</td>\n",
       "      <td>98.52</td>\n",
       "      <td>99.79</td>\n",
       "      <td>57.273030</td>\n",
       "      <td>14.87</td>\n",
       "      <td>21.58</td>\n",
       "      <td>2019-02-09</td>\n",
       "      <td>10:02</td>\n",
       "    </tr>\n",
       "    <tr>\n",
       "      <th rowspan=\"3\" valign=\"top\">Health and beauty</th>\n",
       "      <th>A</th>\n",
       "      <td>35.8400</td>\n",
       "      <td>0.9165</td>\n",
       "      <td>12.763681</td>\n",
       "      <td>599.8930</td>\n",
       "      <td>2019-02-07</td>\n",
       "      <td>11:28</td>\n",
       "      <td>89.60</td>\n",
       "      <td>99.83</td>\n",
       "      <td>49.862340</td>\n",
       "      <td>10.08</td>\n",
       "      <td>18.33</td>\n",
       "      <td>2019-02-02</td>\n",
       "      <td>18:50</td>\n",
       "    </tr>\n",
       "    <tr>\n",
       "      <th>B</th>\n",
       "      <td>43.9350</td>\n",
       "      <td>0.8875</td>\n",
       "      <td>17.952075</td>\n",
       "      <td>951.4600</td>\n",
       "      <td>2019-03-29</td>\n",
       "      <td>10:25</td>\n",
       "      <td>87.87</td>\n",
       "      <td>99.71</td>\n",
       "      <td>58.185660</td>\n",
       "      <td>10.75</td>\n",
       "      <td>17.75</td>\n",
       "      <td>2019-01-14</td>\n",
       "      <td>10:38</td>\n",
       "    </tr>\n",
       "    <tr>\n",
       "      <th>C</th>\n",
       "      <td>45.2500</td>\n",
       "      <td>1.5370</td>\n",
       "      <td>15.215500</td>\n",
       "      <td>791.2060</td>\n",
       "      <td>2019-01-25</td>\n",
       "      <td>13:48</td>\n",
       "      <td>90.50</td>\n",
       "      <td>99.96</td>\n",
       "      <td>55.971346</td>\n",
       "      <td>10.16</td>\n",
       "      <td>15.37</td>\n",
       "      <td>2019-03-16</td>\n",
       "      <td>19:47</td>\n",
       "    </tr>\n",
       "    <tr>\n",
       "      <th rowspan=\"3\" valign=\"top\">Home and lifestyle</th>\n",
       "      <th>A</th>\n",
       "      <td>45.3250</td>\n",
       "      <td>0.9140</td>\n",
       "      <td>16.422854</td>\n",
       "      <td>1067.4855</td>\n",
       "      <td>2019-03-08</td>\n",
       "      <td>10:53</td>\n",
       "      <td>90.65</td>\n",
       "      <td>97.94</td>\n",
       "      <td>55.845692</td>\n",
       "      <td>11.43</td>\n",
       "      <td>18.28</td>\n",
       "      <td>2019-03-22</td>\n",
       "      <td>15:05</td>\n",
       "    </tr>\n",
       "    <tr>\n",
       "      <th>B</th>\n",
       "      <td>48.6900</td>\n",
       "      <td>1.6160</td>\n",
       "      <td>16.713490</td>\n",
       "      <td>835.6745</td>\n",
       "      <td>2019-03-02</td>\n",
       "      <td>17:16</td>\n",
       "      <td>97.38</td>\n",
       "      <td>99.92</td>\n",
       "      <td>55.514000</td>\n",
       "      <td>11.28</td>\n",
       "      <td>16.16</td>\n",
       "      <td>2019-03-07</td>\n",
       "      <td>11:49</td>\n",
       "    </tr>\n",
       "    <tr>\n",
       "      <th>C</th>\n",
       "      <td>48.7500</td>\n",
       "      <td>0.6990</td>\n",
       "      <td>14.704289</td>\n",
       "      <td>661.6930</td>\n",
       "      <td>2019-01-12</td>\n",
       "      <td>16:18</td>\n",
       "      <td>97.50</td>\n",
       "      <td>97.50</td>\n",
       "      <td>54.334222</td>\n",
       "      <td>10.53</td>\n",
       "      <td>13.98</td>\n",
       "      <td>2019-02-04</td>\n",
       "      <td>13:38</td>\n",
       "    </tr>\n",
       "    <tr>\n",
       "      <th rowspan=\"3\" valign=\"top\">Sports and travel</th>\n",
       "      <th>A</th>\n",
       "      <td>44.1405</td>\n",
       "      <td>0.7670</td>\n",
       "      <td>15.635754</td>\n",
       "      <td>922.5095</td>\n",
       "      <td>2019-02-17</td>\n",
       "      <td>19:41</td>\n",
       "      <td>98.09</td>\n",
       "      <td>98.40</td>\n",
       "      <td>55.610339</td>\n",
       "      <td>12.34</td>\n",
       "      <td>15.34</td>\n",
       "      <td>2019-01-06</td>\n",
       "      <td>11:09</td>\n",
       "    </tr>\n",
       "    <tr>\n",
       "      <th>B</th>\n",
       "      <td>44.9820</td>\n",
       "      <td>1.6490</td>\n",
       "      <td>15.351919</td>\n",
       "      <td>951.8190</td>\n",
       "      <td>2019-03-09</td>\n",
       "      <td>17:26</td>\n",
       "      <td>99.96</td>\n",
       "      <td>99.96</td>\n",
       "      <td>59.678065</td>\n",
       "      <td>11.85</td>\n",
       "      <td>16.49</td>\n",
       "      <td>2019-02-05</td>\n",
       "      <td>11:32</td>\n",
       "    </tr>\n",
       "    <tr>\n",
       "      <th>C</th>\n",
       "      <td>47.7200</td>\n",
       "      <td>0.5085</td>\n",
       "      <td>16.679289</td>\n",
       "      <td>750.5680</td>\n",
       "      <td>2019-01-09</td>\n",
       "      <td>13:45</td>\n",
       "      <td>95.44</td>\n",
       "      <td>99.24</td>\n",
       "      <td>55.107333</td>\n",
       "      <td>10.17</td>\n",
       "      <td>10.17</td>\n",
       "      <td>2019-02-07</td>\n",
       "      <td>14:15</td>\n",
       "    </tr>\n",
       "  </tbody>\n",
       "</table>\n",
       "</div>"
      ],
      "text/plain": [
       "                              gross income                                \\\n",
       "                                       max     min       mean        sum   \n",
       "Product line           Branch                                              \n",
       "Electronic accessories A           44.3350  1.4480  14.537392   872.2435   \n",
       "                       B           44.8785  1.2725  14.763155   811.9735   \n",
       "                       C           41.1700  1.5120  16.423355   903.2845   \n",
       "Fashion accessories    A           49.4900  0.6045  15.249775   777.7385   \n",
       "                       B           41.6250  1.6760  12.606234   781.5865   \n",
       "                       C           49.6500  0.6270  15.794923  1026.6700   \n",
       "Food and beverages     A           44.3970  1.5920  14.091216   817.2905   \n",
       "                       B           42.3150  2.6860  14.490370   724.5185   \n",
       "                       C           49.2600  1.0790  17.147803  1131.7550   \n",
       "Health and beauty      A           35.8400  0.9165  12.763681   599.8930   \n",
       "                       B           43.9350  0.8875  17.952075   951.4600   \n",
       "                       C           45.2500  1.5370  15.215500   791.2060   \n",
       "Home and lifestyle     A           45.3250  0.9140  16.422854  1067.4855   \n",
       "                       B           48.6900  1.6160  16.713490   835.6745   \n",
       "                       C           48.7500  0.6990  14.704289   661.6930   \n",
       "Sports and travel      A           44.1405  0.7670  15.635754   922.5095   \n",
       "                       B           44.9820  1.6490  15.351919   951.8190   \n",
       "                       C           47.7200  0.5085  16.679289   750.5680   \n",
       "\n",
       "                              Max Income Date Max Income Time  \\\n",
       "                                                                \n",
       "Product line           Branch                                   \n",
       "Electronic accessories A           2019-01-12           14:50   \n",
       "                       B           2019-03-02           19:42   \n",
       "                       C           2019-03-29           19:12   \n",
       "Fashion accessories    A           2019-02-08           16:20   \n",
       "                       B           2019-01-12           11:25   \n",
       "                       C           2019-02-15           14:53   \n",
       "Food and beverages     A           2019-02-19           15:07   \n",
       "                       B           2019-01-01           11:36   \n",
       "                       C           2019-01-30           20:23   \n",
       "Health and beauty      A           2019-02-07           11:28   \n",
       "                       B           2019-03-29           10:25   \n",
       "                       C           2019-01-25           13:48   \n",
       "Home and lifestyle     A           2019-03-08           10:53   \n",
       "                       B           2019-03-02           17:16   \n",
       "                       C           2019-01-12           16:18   \n",
       "Sports and travel      A           2019-02-17           19:41   \n",
       "                       B           2019-03-09           17:26   \n",
       "                       C           2019-01-09           13:45   \n",
       "\n",
       "                              Max Income Unit Price Unit price             \\\n",
       "                                                           max       mean   \n",
       "Product line           Branch                                               \n",
       "Electronic accessories A                      88.67      99.56  54.871167   \n",
       "                       B                      99.73      99.73  49.854182   \n",
       "                       C                      82.34      99.69  55.809455   \n",
       "Fashion accessories    A                      98.98      99.10  56.670392   \n",
       "                       B                      83.25      99.89  54.843871   \n",
       "                       C                      99.30      99.82  59.736000   \n",
       "Food and beverages     A                      98.66      99.78  54.974483   \n",
       "                       B                      84.63      99.69  55.540000   \n",
       "                       C                      98.52      99.79  57.273030   \n",
       "Health and beauty      A                      89.60      99.83  49.862340   \n",
       "                       B                      87.87      99.71  58.185660   \n",
       "                       C                      90.50      99.96  55.971346   \n",
       "Home and lifestyle     A                      90.65      97.94  55.845692   \n",
       "                       B                      97.38      99.92  55.514000   \n",
       "                       C                      97.50      97.50  54.334222   \n",
       "Sports and travel      A                      98.09      98.40  55.610339   \n",
       "                       B                      99.96      99.96  59.678065   \n",
       "                       C                      95.44      99.24  55.107333   \n",
       "\n",
       "                                     Min Income Unit Price Min Income Date  \\\n",
       "                                 min                                         \n",
       "Product line           Branch                                                \n",
       "Electronic accessories A       10.56                 28.96      2019-02-07   \n",
       "                       B       10.59                 25.45      2019-03-10   \n",
       "                       C       11.81                 30.24      2019-03-04   \n",
       "Fashion accessories    A       12.09                 12.09      2019-01-26   \n",
       "                       B       14.48                 33.52      2019-02-08   \n",
       "                       C       10.18                 12.54      2019-02-21   \n",
       "Food and beverages     A       10.13                 31.84      2019-02-09   \n",
       "                       B       17.63                 53.72      2019-03-01   \n",
       "                       C       14.87                 21.58      2019-02-09   \n",
       "Health and beauty      A       10.08                 18.33      2019-02-02   \n",
       "                       B       10.75                 17.75      2019-01-14   \n",
       "                       C       10.16                 15.37      2019-03-16   \n",
       "Home and lifestyle     A       11.43                 18.28      2019-03-22   \n",
       "                       B       11.28                 16.16      2019-03-07   \n",
       "                       C       10.53                 13.98      2019-02-04   \n",
       "Sports and travel      A       12.34                 15.34      2019-01-06   \n",
       "                       B       11.85                 16.49      2019-02-05   \n",
       "                       C       10.17                 10.17      2019-02-07   \n",
       "\n",
       "                              Min Income Time  \n",
       "                                               \n",
       "Product line           Branch                  \n",
       "Electronic accessories A                10:18  \n",
       "                       B                18:10  \n",
       "                       C                15:44  \n",
       "Fashion accessories    A                18:19  \n",
       "                       B                15:31  \n",
       "                       C                12:38  \n",
       "Food and beverages     A                13:22  \n",
       "                       B                20:03  \n",
       "                       C                10:02  \n",
       "Health and beauty      A                18:50  \n",
       "                       B                10:38  \n",
       "                       C                19:47  \n",
       "Home and lifestyle     A                15:05  \n",
       "                       B                11:49  \n",
       "                       C                13:38  \n",
       "Sports and travel      A                11:09  \n",
       "                       B                11:32  \n",
       "                       C                14:15  "
      ]
     },
     "execution_count": 112,
     "metadata": {},
     "output_type": "execute_result"
    }
   ],
   "source": [
    "max_gross_income = df.loc[df.groupby(['Product line', 'Branch'])['gross income'].idxmax()]\n",
    "min_gross_income = df.loc[df.groupby(['Product line', 'Branch'])['gross income'].idxmin()]\n",
    "df_summary_branches_income_by_productline = df.groupby(['Product line', 'Branch'])[['gross income', 'Unit price']].agg({\n",
    "    'gross income': ['max', 'min', 'mean', 'sum'],\n",
    "    'Unit price': ['max','mean', 'min']\n",
    "}).assign(\n",
    "    **{\n",
    "        'Max Income Date': max_gross_income['Date'].values,\n",
    "        'Max Income Time': max_gross_income['Time'].values,\n",
    "        'Max Income Unit Price': max_gross_income['Unit price'].values,\n",
    "        'Min Income Date': min_gross_income['Date'].values,\n",
    "        'Min Income Time': min_gross_income['Time'].values,\n",
    "        'Min Income Unit Price': min_gross_income['Unit price'].values\n",
    "    }\n",
    ")[['gross income', 'Max Income Date', 'Max Income Time', 'Max Income Unit Price', \n",
    "   'Unit price', 'Min Income Unit Price', 'Min Income Date', 'Min Income Time']]\n",
    "\n",
    "df_summary_branches_income_by_productline "
   ]
  }
 ],
 "metadata": {
  "kernelspec": {
   "display_name": "Python 3 (ipykernel)",
   "language": "python",
   "name": "python3"
  },
  "language_info": {
   "codemirror_mode": {
    "name": "ipython",
    "version": 3
   },
   "file_extension": ".py",
   "mimetype": "text/x-python",
   "name": "python",
   "nbconvert_exporter": "python",
   "pygments_lexer": "ipython3",
   "version": "3.11.7"
  }
 },
 "nbformat": 4,
 "nbformat_minor": 5
}
